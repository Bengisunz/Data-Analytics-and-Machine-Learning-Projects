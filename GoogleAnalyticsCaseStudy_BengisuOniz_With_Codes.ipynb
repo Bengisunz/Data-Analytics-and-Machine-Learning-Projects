{
  "nbformat": 4,
  "nbformat_minor": 0,
  "metadata": {
    "colab": {
      "name": "GoogleAnalyticsCaseStudy_BengisuOniz_With_Codes",
      "provenance": [],
      "collapsed_sections": [
        "TdRccYXGPGq2",
        "QSkOzuKtPOHb",
        "zENm0p7vJhjb"
      ],
      "include_colab_link": true
    },
    "kernelspec": {
      "name": "python3",
      "display_name": "Python 3"
    },
    "accelerator": "GPU"
  },
  "cells": [
    {
      "cell_type": "markdown",
      "metadata": {
        "id": "view-in-github",
        "colab_type": "text"
      },
      "source": [
        "<a href=\"https://colab.research.google.com/github/Bengisunz/Data-Analytics-and-Machine-Learning-Projects/blob/master/GoogleAnalyticsCaseStudy_BengisuOniz_With_Codes.ipynb\" target=\"_parent\"><img src=\"https://colab.research.google.com/assets/colab-badge.svg\" alt=\"Open In Colab\"/></a>"
      ]
    },
    {
      "cell_type": "markdown",
      "metadata": {
        "id": "EXDsDiuIDfra",
        "colab_type": "text"
      },
      "source": [
        "# Introduction"
      ]
    },
    {
      "cell_type": "markdown",
      "metadata": {
        "id": "pBHsJi_ZDtgT",
        "colab_type": "text"
      },
      "source": [
        "Bengisu Öniz\n",
        "\n",
        "11.11.2019"
      ]
    },
    {
      "cell_type": "markdown",
      "metadata": {
        "id": "mlEAWtvysOd0",
        "colab_type": "text"
      },
      "source": [
        "\n",
        "##About the Data & Case"
      ]
    },
    {
      "cell_type": "markdown",
      "metadata": {
        "id": "E5SLpgZHspV_",
        "colab_type": "text"
      },
      "source": [
        "The table is \n",
        "bigquery-public-data:google_analytics_sample.ga_sessions_20170801\n"
      ]
    },
    {
      "cell_type": "markdown",
      "metadata": {
        "id": "FWbGvXq_st-P",
        "colab_type": "text"
      },
      "source": [
        "**Questions**\n",
        "\n",
        "These are the questions l am looking answers.\n",
        "\n",
        "\n",
        "1. How many sessions do users create on average within the day?\n",
        "2. What is the conversion rate per traffic medium?\n",
        "3. How many hits do users generate per visit on average on the platform? \n",
        "4. What is the top 5 country in terms of the amount of traffic (visits)\n",
        "5. How much time passes until users click on a product (hits.eventInfo.eventAction = 'Product Click')?\n",
        "6. Visualise the visits per hour of the day.\n",
        "7. What is the peak hour for visits with transactions? Annotate it on the plot of Task 6.\n",
        "8. Plot a histogram of time spent on the platform.\n",
        "9. Do you see any correlation between time spent on the platform and the total revenue? Try to explain with a plot and comment on it.\n",
        "10. Try to visualise the pair distribution (2D) of the time spent on the platform and total number of hits, for each visit. Compare and comment on such distribution for top two countries with most traffic.\n",
        "\n",
        "\n",
        "\n",
        "\n"
      ]
    },
    {
      "cell_type": "markdown",
      "metadata": {
        "id": "D79nskEHWz-9",
        "colab_type": "text"
      },
      "source": [
        "l want to check the main metrics of the web page at first.\n"
      ]
    },
    {
      "cell_type": "markdown",
      "metadata": {
        "id": "jd8bdPi-J2CO",
        "colab_type": "text"
      },
      "source": [
        "| date  |visits   |pageviews  |transactions |revenue\n",
        "|:--:|:--:|:--:|:--:|:--:|\n",
        "| 20170801|\t2556\t|10939|\t45\t|8304.94  |"
      ]
    },
    {
      "cell_type": "markdown",
      "metadata": {
        "id": "BVFlxbyhSgW5",
        "colab_type": "text"
      },
      "source": [
        "                                                          Average transaction per user is 2.12\n"
      ]
    },
    {
      "cell_type": "markdown",
      "metadata": {
        "id": "P6iGd19VS7BF",
        "colab_type": "text"
      },
      "source": [
        "                                                          The number of transactions per browser\n",
        "\n",
        "|device_browser|total_transactions|\n",
        "|:--:|:--:|\n",
        "|Chrome|41|\n",
        " |Safari|3|\n",
        " |Firefox|1|\n",
        " |Internet Explorer|null|\n",
        "|UC Browser|null|\n",
        "\n"
      ]
    },
    {
      "cell_type": "markdown",
      "metadata": {
        "id": "TdRccYXGPGq2",
        "colab_type": "text"
      },
      "source": [
        "## Downloading Neccasary Python Libraries"
      ]
    },
    {
      "cell_type": "code",
      "metadata": {
        "id": "MSQUQWbgYmgx",
        "colab_type": "code",
        "outputId": "ce18c8b6-2fc8-49df-f3d9-3deb2bc6fad2",
        "cellView": "form",
        "colab": {
          "base_uri": "https://localhost:8080/",
          "height": 122
        }
      },
      "source": [
        "#@title\n",
        "# Google Drive  ortamına bağlanma\n",
        "from google.colab import drive\n",
        "drive.mount('/content/drive')"
      ],
      "execution_count": 0,
      "outputs": [
        {
          "output_type": "stream",
          "text": [
            "Go to this URL in a browser: https://accounts.google.com/o/oauth2/auth?client_id=947318989803-6bn6qk8qdgf4n4g3pfee6491hc0brc4i.apps.googleusercontent.com&redirect_uri=urn%3Aietf%3Awg%3Aoauth%3A2.0%3Aoob&scope=email%20https%3A%2F%2Fwww.googleapis.com%2Fauth%2Fdocs.test%20https%3A%2F%2Fwww.googleapis.com%2Fauth%2Fdrive%20https%3A%2F%2Fwww.googleapis.com%2Fauth%2Fdrive.photos.readonly%20https%3A%2F%2Fwww.googleapis.com%2Fauth%2Fpeopleapi.readonly&response_type=code\n",
            "\n",
            "Enter your authorization code:\n",
            "··········\n",
            "Mounted at /content/drive\n"
          ],
          "name": "stdout"
        }
      ]
    },
    {
      "cell_type": "code",
      "metadata": {
        "id": "J3A31s8lZmYD",
        "colab_type": "code",
        "cellView": "form",
        "colab": {}
      },
      "source": [
        "#@title\n",
        "import pandas as pd\n",
        "import numpy as np\n",
        "import matplotlib.pyplot as plt\n",
        "import seaborn as sns\n",
        "import plotly.express as px\n",
        "from matplotlib.pyplot import figure\n",
        "import plotly.graph_objects as go\n",
        "from datetime import datetime\n",
        "from scipy import stats\n",
        "\n",
        "%matplotlib inline\n",
        "\n",
        "plt.style.use(\"seaborn-notebook\")"
      ],
      "execution_count": 0,
      "outputs": []
    },
    {
      "cell_type": "markdown",
      "metadata": {
        "id": "_dt23KyuysdS",
        "colab_type": "text"
      },
      "source": [
        "# 1. How many sessions do users create on average within the day? \n"
      ]
    },
    {
      "cell_type": "markdown",
      "metadata": {
        "id": "3nK6SQFo5HeO",
        "colab_type": "text"
      },
      "source": [
        "\n",
        "Legacy SQL\n",
        "\n",
        "```sql\n",
        "select avg(sessions) as total_sessions from (\n",
        "  select\n",
        "    fullvisitorid,\n",
        "    count(visitid) as sessions,\n",
        "    from [bigquery-public-data:google_analytics_sample.ga_sessions_20170801]\n",
        "    group each by fullvisitorid)\n",
        "```"
      ]
    },
    {
      "cell_type": "markdown",
      "metadata": {
        "id": "EUnP7xEWdtpM",
        "colab_type": "text"
      },
      "source": [
        "\n",
        "Legacy SQL\n",
        "\n",
        "``` sql\n",
        "SELECT\n",
        "  fullVisitorId,\n",
        "  SUM(totals.visits) as visits,\n",
        "  SUM(totals.pageviews) as pageviews,\n",
        "FROM\n",
        "  [bigquery-public-data.google_analytics_sample.ga_sessions_20170801]\n",
        "GROUP BY\n",
        "  fullVisitorId\n",
        "HAVING visits>0 and pageviews>0\n",
        "\n",
        "```\n",
        "\n",
        "``` sql\n",
        "SELECT\n",
        "( SUM(total_pagesviews_per_user) / COUNT(users) ) AS avg_pageviews_per_user\n",
        "FROM\n",
        "(SELECT\n",
        "  fullVisitorId AS users,\n",
        "  SUM(totals.pageviews) AS total_pagesviews_per_user\n",
        "FROM\n",
        "  [bigquery-public-data:google_analytics_sample.ga_sessions_20170801]\n",
        "WHERE\n",
        "  totals.transactions >=1\n",
        "GROUP BY\n",
        "  users)\n",
        "  \n",
        "```\n"
      ]
    },
    {
      "cell_type": "markdown",
      "metadata": {
        "id": "GX3garnm3z5t",
        "colab_type": "text"
      },
      "source": [
        "| Row  |AVG_Sessions   |\n",
        "|:--:|:--:|\n",
        "|  1 | 1.1146  |\n"
      ]
    },
    {
      "cell_type": "markdown",
      "metadata": {
        "id": "0JjhQGgIbWBg",
        "colab_type": "text"
      },
      "source": [
        "Average sessions users create within the day is 1.12"
      ]
    },
    {
      "cell_type": "code",
      "metadata": {
        "id": "rl7tGQFke_nA",
        "colab_type": "code",
        "cellView": "form",
        "outputId": "9dc8ec14-dfad-4791-adbd-4021a6232997",
        "colab": {
          "base_uri": "https://localhost:8080/",
          "height": 297
        }
      },
      "source": [
        "#@title Other Main Statistics about Sessions and Pageviews\n",
        "\n",
        "path = \"/content/drive/My Drive/dh_data/sessions_pageviews.csv\"\n",
        "data = pd.read_csv(path)\n",
        "data[[\"visits\",\"pageviews\"]].describe()"
      ],
      "execution_count": 0,
      "outputs": [
        {
          "output_type": "execute_result",
          "data": {
            "text/html": [
              "<div>\n",
              "<style scoped>\n",
              "    .dataframe tbody tr th:only-of-type {\n",
              "        vertical-align: middle;\n",
              "    }\n",
              "\n",
              "    .dataframe tbody tr th {\n",
              "        vertical-align: top;\n",
              "    }\n",
              "\n",
              "    .dataframe thead th {\n",
              "        text-align: right;\n",
              "    }\n",
              "</style>\n",
              "<table border=\"1\" class=\"dataframe\">\n",
              "  <thead>\n",
              "    <tr style=\"text-align: right;\">\n",
              "      <th></th>\n",
              "      <th>visits</th>\n",
              "      <th>pageviews</th>\n",
              "    </tr>\n",
              "  </thead>\n",
              "  <tbody>\n",
              "    <tr>\n",
              "      <th>count</th>\n",
              "      <td>2293.000000</td>\n",
              "      <td>2293.000000</td>\n",
              "    </tr>\n",
              "    <tr>\n",
              "      <th>mean</th>\n",
              "      <td>1.114697</td>\n",
              "      <td>4.770606</td>\n",
              "    </tr>\n",
              "    <tr>\n",
              "      <th>std</th>\n",
              "      <td>0.385624</td>\n",
              "      <td>9.095320</td>\n",
              "    </tr>\n",
              "    <tr>\n",
              "      <th>min</th>\n",
              "      <td>1.000000</td>\n",
              "      <td>1.000000</td>\n",
              "    </tr>\n",
              "    <tr>\n",
              "      <th>25%</th>\n",
              "      <td>1.000000</td>\n",
              "      <td>1.000000</td>\n",
              "    </tr>\n",
              "    <tr>\n",
              "      <th>50%</th>\n",
              "      <td>1.000000</td>\n",
              "      <td>2.000000</td>\n",
              "    </tr>\n",
              "    <tr>\n",
              "      <th>75%</th>\n",
              "      <td>1.000000</td>\n",
              "      <td>4.000000</td>\n",
              "    </tr>\n",
              "    <tr>\n",
              "      <th>max</th>\n",
              "      <td>4.000000</td>\n",
              "      <td>155.000000</td>\n",
              "    </tr>\n",
              "  </tbody>\n",
              "</table>\n",
              "</div>"
            ],
            "text/plain": [
              "            visits    pageviews\n",
              "count  2293.000000  2293.000000\n",
              "mean      1.114697     4.770606\n",
              "std       0.385624     9.095320\n",
              "min       1.000000     1.000000\n",
              "25%       1.000000     1.000000\n",
              "50%       1.000000     2.000000\n",
              "75%       1.000000     4.000000\n",
              "max       4.000000   155.000000"
            ]
          },
          "metadata": {
            "tags": []
          },
          "execution_count": 3
        }
      ]
    },
    {
      "cell_type": "markdown",
      "metadata": {
        "id": "3E6Lnv0UgaKf",
        "colab_type": "text"
      },
      "source": [
        "\n",
        ">Average page views visitors see within the day is 4.8 (Query 1.1). \n",
        "Furthermore, average page view within a session per visiters who make a purchase is  30.4 (Query 1.2) and visitors who did not make a purchase  is 4.3 . Hence, visitors who tends to purchase check more products on the platfrom.  To improve their purchasing experience it would be nice to create product comparison tools or recommendation system.  "
      ]
    },
    {
      "cell_type": "markdown",
      "metadata": {
        "id": "m6AYotkczm6H",
        "colab_type": "text"
      },
      "source": [
        "  \n",
        "# 2. What is the conversion rate per traffic medium? "
      ]
    },
    {
      "cell_type": "markdown",
      "metadata": {
        "id": "ax4grIuzLmxo",
        "colab_type": "text"
      },
      "source": [
        "Legacy SQL\n",
        "\n",
        "``` sql\n",
        "\n",
        "SELECT\n",
        "  (total_transactions_per_user / visit_count ) AS conversion,\n",
        "  trafficSource.medium\n",
        "FROM (\n",
        "  SELECT\n",
        "    trafficSource.medium,\n",
        "    SUM(totals.visits) AS visit_count,\n",
        "    SUM(totals.transactions) AS total_transactions_per_user\n",
        "  FROM\n",
        "    [bigquery-public-data.google_analytics_sample.ga_sessions_20170801]\n",
        "  WHERE\n",
        "    totals.visits> 0\n",
        "  GROUP BY\n",
        "    trafficSource.medium)\n",
        "    \n",
        "```\n",
        "\n"
      ]
    },
    {
      "cell_type": "markdown",
      "metadata": {
        "id": "IAXsHbxAMoYN",
        "colab_type": "text"
      },
      "source": [
        "| trafficSource_medium  |  Conversion_Rate |\n",
        "|--:|---|\n",
        "|   \t(none)| 0.020  |\n",
        "| referral \t|  0.003   |\n",
        "|  organic | \t none  |\n",
        "| cpm\t|   none |   \n",
        "| affiliate\t| none     |\n",
        "\n"
      ]
    },
    {
      "cell_type": "markdown",
      "metadata": {
        "id": "1dcfM0zrzpfH",
        "colab_type": "text"
      },
      "source": [
        "Direct traffics is the one of the highest conversion rate within all traffic medium sources."
      ]
    },
    {
      "cell_type": "markdown",
      "metadata": {
        "id": "9ZECoI8Vzv2D",
        "colab_type": "text"
      },
      "source": [
        "#3. How many hits do users generate per visit on average on the platform?\n"
      ]
    },
    {
      "cell_type": "markdown",
      "metadata": {
        "id": "cIQu3MpSNoxe",
        "colab_type": "text"
      },
      "source": [
        "\n",
        "Legacy SQL\n",
        "\n",
        "```sql\n",
        "SELECT\n",
        "( SUM(total_hits_per_user) / SUM(total_visits_per_user) ) AS\n",
        "avg_hits_by_user_per_visit\n",
        "FROM (SELECT\n",
        "  fullVisitorId,\n",
        "  SUM(totals.visits) AS total_visits_per_user,\n",
        "  SUM(totals.hits) AS total_hits_per_user\n",
        "FROM\n",
        "  [bigquery-public-data.google_analytics_sample.ga_sessions_20170801]\n",
        "WHERE\n",
        "  totals.visits > 0\n",
        "  AND totals.hits >= 1\n",
        "GROUP BY\n",
        "  fullVisitorId)\n",
        "\n",
        "```"
      ]
    },
    {
      "cell_type": "markdown",
      "metadata": {
        "colab_type": "text",
        "id": "C-JzAKAQUURp"
      },
      "source": [
        "\n",
        "Legacy SQL\n",
        "\n",
        "```sql\n",
        "\n",
        "SELECT\n",
        "  AVG(ratio_per_user)\n",
        "FROM (\n",
        "  SELECT\n",
        "    SUM(total_hits_per_user/total_visits_per_user) OVER (PARTITION BY fullVisitorId) AS ratio_per_user\n",
        "  FROM (\n",
        "    SELECT\n",
        "      fullVisitorId,\n",
        "      SUM(totals.visits) AS total_visits_per_user,\n",
        "      SUM(totals.hits) AS total_hits_per_user\n",
        "    FROM\n",
        "      [bigquery-public-data.google_analytics_sample.ga_sessions_20170801]\n",
        "    WHERE\n",
        "      totals.visits > 0\n",
        "      AND totals.hits >= 1\n",
        "    GROUP BY\n",
        "      fullVisitorId))\n",
        "      \n",
        "```\n"
      ]
    },
    {
      "cell_type": "markdown",
      "metadata": {
        "id": "xZYFu4jfUcyx",
        "colab_type": "text"
      },
      "source": [
        "The average number of hits by users is found as\t4.85."
      ]
    },
    {
      "cell_type": "markdown",
      "metadata": {
        "id": "T7r8AQftztj6",
        "colab_type": "text"
      },
      "source": [
        "# 4. What is the top 5 country in terms of the amount of traffic (visits)? "
      ]
    },
    {
      "cell_type": "markdown",
      "metadata": {
        "id": "bhC0oXzaSHk-",
        "colab_type": "text"
      },
      "source": [
        "\n",
        "Legacy SQL\n",
        "\n",
        "``` sql\n",
        "SELECT\n",
        "  geoNetwork.country AS Country,\n",
        "  COUNT(visitId) AS Visits\n",
        "FROM\n",
        "  [bigquery-public-data.google_analytics_sample.ga_sessions_20170801]\n",
        "WHERE\n",
        "  totals.visits = 1\n",
        "GROUP BY\n",
        "  Country\n",
        "ORDER BY\n",
        "  Visits DESC\n",
        "LIMIT\n",
        "  5\n",
        "\n",
        "```\n",
        "\n"
      ]
    },
    {
      "cell_type": "markdown",
      "metadata": {
        "id": "14g9mYNCO94k",
        "colab_type": "text"
      },
      "source": [
        "| Country  | Visits  |\n",
        "|--:|---|\n",
        "|   United States|  \t1287 |\n",
        "| India\t|  155    |\n",
        "|  United Kingdom | \t142 |   |\n",
        "| Germany\t|  91  |   |\n",
        "| Canada\t|  85    |\n"
      ]
    },
    {
      "cell_type": "markdown",
      "metadata": {
        "id": "HsR6fJ7I1CgB",
        "colab_type": "text"
      },
      "source": [
        "United States has the highest traffic with 1287 visits in a day."
      ]
    },
    {
      "cell_type": "markdown",
      "metadata": {
        "id": "dntVGdZxzttK",
        "colab_type": "text"
      },
      "source": [
        "# 5. How much time passes until users click on a product (hits.eventInfo.eventAction = 'Product Click')? "
      ]
    },
    {
      "cell_type": "markdown",
      "metadata": {
        "id": "t1gKw-gJQ0DL",
        "colab_type": "text"
      },
      "source": [
        "Legacy SQL\n",
        "\n",
        "\n",
        "``` sql\n",
        "SELECT\n",
        "  fullVisitorId,\n",
        "  visitid,\n",
        "  visitStartTime,\n",
        "  hits.time,\n",
        "  TIMESTAMP(INTEGER(visitStartTime*1000000)) AS start_time12,\n",
        "  TIMESTAMP(INTEGER(visitStartTime*1000000 + hits.time*1000)) AS hits_time12\n",
        "FROM\n",
        "  [bigquery-public-data.google_analytics_sample.ga_sessions_20170801]\n",
        "WHERE\n",
        "  hits.eventInfo.eventAction = 'Product Click'\n",
        "\n",
        "```\n",
        "\n"
      ]
    },
    {
      "cell_type": "code",
      "metadata": {
        "id": "nPyEfT8nMxKz",
        "colab_type": "code",
        "cellView": "form",
        "outputId": "91082b5f-69fb-49c9-f1fa-c56a07f8fdf7",
        "colab": {
          "base_uri": "https://localhost:8080/",
          "height": 204
        }
      },
      "source": [
        "#@title About the data\n",
        "\n",
        "path = \"/content/drive/My Drive/dh_data/q5_data.csv\"\n",
        "data = pd.read_csv(path)\n",
        "data.head()\n"
      ],
      "execution_count": 0,
      "outputs": [
        {
          "output_type": "execute_result",
          "data": {
            "text/html": [
              "<div>\n",
              "<style scoped>\n",
              "    .dataframe tbody tr th:only-of-type {\n",
              "        vertical-align: middle;\n",
              "    }\n",
              "\n",
              "    .dataframe tbody tr th {\n",
              "        vertical-align: top;\n",
              "    }\n",
              "\n",
              "    .dataframe thead th {\n",
              "        text-align: right;\n",
              "    }\n",
              "</style>\n",
              "<table border=\"1\" class=\"dataframe\">\n",
              "  <thead>\n",
              "    <tr style=\"text-align: right;\">\n",
              "      <th></th>\n",
              "      <th>fullVisitorId</th>\n",
              "      <th>visitid</th>\n",
              "      <th>visitStartTime</th>\n",
              "      <th>hits_time</th>\n",
              "      <th>start_time12</th>\n",
              "      <th>hits_time12</th>\n",
              "    </tr>\n",
              "  </thead>\n",
              "  <tbody>\n",
              "    <tr>\n",
              "      <th>0</th>\n",
              "      <td>138058039294367332</td>\n",
              "      <td>1501628807</td>\n",
              "      <td>1501628807</td>\n",
              "      <td>0</td>\n",
              "      <td>2017-08-01 23:06:47 UTC</td>\n",
              "      <td>2017-08-01 23:06:47 UTC</td>\n",
              "    </tr>\n",
              "    <tr>\n",
              "      <th>1</th>\n",
              "      <td>7605971862730185115</td>\n",
              "      <td>1501580187</td>\n",
              "      <td>1501580187</td>\n",
              "      <td>37012</td>\n",
              "      <td>2017-08-01 09:36:27 UTC</td>\n",
              "      <td>2017-08-01 09:37:04.012 UTC</td>\n",
              "    </tr>\n",
              "    <tr>\n",
              "      <th>2</th>\n",
              "      <td>4107476716931948379</td>\n",
              "      <td>1501574999</td>\n",
              "      <td>1501574999</td>\n",
              "      <td>36298</td>\n",
              "      <td>2017-08-01 08:09:59 UTC</td>\n",
              "      <td>2017-08-01 08:10:35.298 UTC</td>\n",
              "    </tr>\n",
              "    <tr>\n",
              "      <th>3</th>\n",
              "      <td>1792126295682358590</td>\n",
              "      <td>1501577127</td>\n",
              "      <td>1501577127</td>\n",
              "      <td>36749</td>\n",
              "      <td>2017-08-01 08:45:27 UTC</td>\n",
              "      <td>2017-08-01 08:46:03.749 UTC</td>\n",
              "    </tr>\n",
              "    <tr>\n",
              "      <th>4</th>\n",
              "      <td>1281234459613429134</td>\n",
              "      <td>1501586692</td>\n",
              "      <td>1501586692</td>\n",
              "      <td>25834</td>\n",
              "      <td>2017-08-01 11:24:52 UTC</td>\n",
              "      <td>2017-08-01 11:25:17.834 UTC</td>\n",
              "    </tr>\n",
              "  </tbody>\n",
              "</table>\n",
              "</div>"
            ],
            "text/plain": [
              "         fullVisitorId  ...                  hits_time12\n",
              "0   138058039294367332  ...      2017-08-01 23:06:47 UTC\n",
              "1  7605971862730185115  ...  2017-08-01 09:37:04.012 UTC\n",
              "2  4107476716931948379  ...  2017-08-01 08:10:35.298 UTC\n",
              "3  1792126295682358590  ...  2017-08-01 08:46:03.749 UTC\n",
              "4  1281234459613429134  ...  2017-08-01 11:25:17.834 UTC\n",
              "\n",
              "[5 rows x 6 columns]"
            ]
          },
          "metadata": {
            "tags": []
          },
          "execution_count": 4
        }
      ]
    },
    {
      "cell_type": "code",
      "metadata": {
        "id": "p--5ouXWzC8S",
        "colab_type": "code",
        "cellView": "form",
        "outputId": "562420ba-e42e-41bb-c8c9-2ee02102a70a",
        "colab": {
          "base_uri": "https://localhost:8080/",
          "height": 390
        }
      },
      "source": [
        "#@title Verifying the time differences \n",
        "\n",
        "list_hits=[]\n",
        "for i in range(len(data[\"hits_time12\"])):\n",
        "  time = data[\"hits_time12\"].loc[i][:-4]\n",
        "  list_hits.append(time)\n",
        "\n",
        "\n",
        "list_hits_date=[]\n",
        "for i in range(len(list_hits)):\n",
        "  if len(list_hits[i]) == 19: #without micro seconds \n",
        "    time_short = datetime.strptime(list_hits[i], '%Y-%m-%d %H:%M:%S')\n",
        "    list_hits_date.append(time_short)\n",
        "  else:\n",
        "    time = datetime.strptime(list_hits[i], '%Y-%m-%d %H:%M:%S.%f')\n",
        "    list_hits_date.append(time)  \n",
        "\n",
        "\n",
        "data[\"hits_time_format\"] = list_hits_date   \n",
        "\n",
        "list_startime=[]\n",
        "for i in range(len(data[\"start_time12\"])):\n",
        "  time = data[\"start_time12\"].loc[i][:-4]\n",
        "  list_startime.append(time)\n",
        "\n",
        "\n",
        "list_starttime_date=[]\n",
        "for i in range(len(list_startime)):\n",
        "  if len(list_startime[i]) == 19: #without micro seconds \n",
        "    time_short = datetime.strptime(list_startime[i], '%Y-%m-%d %H:%M:%S')\n",
        "    list_starttime_date.append(time_short)\n",
        "  else:\n",
        "    time = datetime.strptime(list_startime[i], '%Y-%m-%d %H:%M:%S.%f')\n",
        "    list_starttime_date.append(time)\n",
        "\n",
        "data[\"visits_time_format\"] = list_starttime_date \n",
        "\n",
        "differences=[]\n",
        "for i in range(len(list_starttime_date)):\n",
        "    diff= (list_hits_date[i] - list_starttime_date[i]).total_seconds()\n",
        "    differences.append(diff)\n",
        "\n",
        "data[\"differences\"] = differences     \n",
        "\n",
        "mean_diff_per_visitor = data.groupby(\"fullVisitorId\").mean()[[\"differences\"]]\n",
        "mean_diff_per_visitor.sample(10)"
      ],
      "execution_count": 0,
      "outputs": [
        {
          "output_type": "execute_result",
          "data": {
            "text/html": [
              "<div>\n",
              "<style scoped>\n",
              "    .dataframe tbody tr th:only-of-type {\n",
              "        vertical-align: middle;\n",
              "    }\n",
              "\n",
              "    .dataframe tbody tr th {\n",
              "        vertical-align: top;\n",
              "    }\n",
              "\n",
              "    .dataframe thead th {\n",
              "        text-align: right;\n",
              "    }\n",
              "</style>\n",
              "<table border=\"1\" class=\"dataframe\">\n",
              "  <thead>\n",
              "    <tr style=\"text-align: right;\">\n",
              "      <th></th>\n",
              "      <th>differences</th>\n",
              "    </tr>\n",
              "    <tr>\n",
              "      <th>fullVisitorId</th>\n",
              "      <th></th>\n",
              "    </tr>\n",
              "  </thead>\n",
              "  <tbody>\n",
              "    <tr>\n",
              "      <th>6687958275730704367</th>\n",
              "      <td>241.149000</td>\n",
              "    </tr>\n",
              "    <tr>\n",
              "      <th>11577526465501235</th>\n",
              "      <td>595.112500</td>\n",
              "    </tr>\n",
              "    <tr>\n",
              "      <th>7550413639587874054</th>\n",
              "      <td>925.239500</td>\n",
              "    </tr>\n",
              "    <tr>\n",
              "      <th>7720463169914643064</th>\n",
              "      <td>142.899667</td>\n",
              "    </tr>\n",
              "    <tr>\n",
              "      <th>5926242413751959519</th>\n",
              "      <td>41.174500</td>\n",
              "    </tr>\n",
              "    <tr>\n",
              "      <th>3289637780548369455</th>\n",
              "      <td>947.466500</td>\n",
              "    </tr>\n",
              "    <tr>\n",
              "      <th>1633146081774573328</th>\n",
              "      <td>488.972000</td>\n",
              "    </tr>\n",
              "    <tr>\n",
              "      <th>34988253365419131</th>\n",
              "      <td>108.393000</td>\n",
              "    </tr>\n",
              "    <tr>\n",
              "      <th>7605971862730185115</th>\n",
              "      <td>37.012000</td>\n",
              "    </tr>\n",
              "    <tr>\n",
              "      <th>91712978079395246</th>\n",
              "      <td>140.194333</td>\n",
              "    </tr>\n",
              "  </tbody>\n",
              "</table>\n",
              "</div>"
            ],
            "text/plain": [
              "                     differences\n",
              "fullVisitorId                   \n",
              "6687958275730704367   241.149000\n",
              "11577526465501235     595.112500\n",
              "7550413639587874054   925.239500\n",
              "7720463169914643064   142.899667\n",
              "5926242413751959519    41.174500\n",
              "3289637780548369455   947.466500\n",
              "1633146081774573328   488.972000\n",
              "34988253365419131     108.393000\n",
              "7605971862730185115    37.012000\n",
              "91712978079395246     140.194333"
            ]
          },
          "metadata": {
            "tags": []
          },
          "execution_count": 5
        }
      ]
    },
    {
      "cell_type": "code",
      "metadata": {
        "id": "v1sLQwcNBckI",
        "colab_type": "code",
        "cellView": "form",
        "outputId": "59cf6f35-7a0a-4507-a845-545be60354df",
        "colab": {
          "base_uri": "https://localhost:8080/",
          "height": 170
        }
      },
      "source": [
        "#@title Basic Statistics of the time passes until users click on a product\n",
        "data[\"differences\"].describe()"
      ],
      "execution_count": 0,
      "outputs": [
        {
          "output_type": "execute_result",
          "data": {
            "text/plain": [
              "count     411.000000\n",
              "mean      489.200579\n",
              "std       717.511784\n",
              "min         0.000000\n",
              "25%        85.559000\n",
              "50%       221.681000\n",
              "75%       617.646500\n",
              "max      5376.459000\n",
              "Name: differences, dtype: float64"
            ]
          },
          "metadata": {
            "tags": []
          },
          "execution_count": 6
        }
      ]
    },
    {
      "cell_type": "markdown",
      "metadata": {
        "id": "o15wat8EBzGi",
        "colab_type": "text"
      },
      "source": [
        "\n",
        "\n",
        "> Average time passes for users to click on a product after they start to be active on the site is 489 seconds. % 75 of the visitors click on a product after 618 seconds after they visit to platfrom.\n",
        "\n",
        "\n",
        "\n",
        "\n"
      ]
    },
    {
      "cell_type": "code",
      "metadata": {
        "id": "rWZXmQMRBJ0X",
        "colab_type": "code",
        "cellView": "form",
        "outputId": "ad281320-b407-43c1-8100-be6b7d53a227",
        "colab": {
          "base_uri": "https://localhost:8080/",
          "height": 617
        }
      },
      "source": [
        "#@title Histogram of Time Passes until Users Click on a Product\n",
        "\n",
        "fig = px.histogram(data, x=\"differences\", nbins=100)\n",
        "fig.update_traces(marker=dict(color='rgba(238,118,0,.9)'))\n",
        "\n",
        "fig.show()"
      ],
      "execution_count": 0,
      "outputs": [
        {
          "output_type": "display_data",
          "data": {
            "text/html": [
              "<html>\n",
              "<head><meta charset=\"utf-8\" /></head>\n",
              "<body>\n",
              "    <div>\n",
              "            <script src=\"https://cdnjs.cloudflare.com/ajax/libs/mathjax/2.7.5/MathJax.js?config=TeX-AMS-MML_SVG\"></script><script type=\"text/javascript\">if (window.MathJax) {MathJax.Hub.Config({SVG: {font: \"STIX-Web\"}});}</script>\n",
              "                <script type=\"text/javascript\">window.PlotlyConfig = {MathJaxConfig: 'local'};</script>\n",
              "        <script src=\"https://cdn.plot.ly/plotly-latest.min.js\"></script>    \n",
              "            <div id=\"bfda07d9-649b-452f-93d6-cd044f8bef5d\" class=\"plotly-graph-div\" style=\"height:600px; width:100%;\"></div>\n",
              "            <script type=\"text/javascript\">\n",
              "                \n",
              "                    window.PLOTLYENV=window.PLOTLYENV || {};\n",
              "                    \n",
              "                if (document.getElementById(\"bfda07d9-649b-452f-93d6-cd044f8bef5d\")) {\n",
              "                    Plotly.newPlot(\n",
              "                        'bfda07d9-649b-452f-93d6-cd044f8bef5d',\n",
              "                        [{\"alignmentgroup\": \"True\", \"bingroup\": \"x\", \"hoverlabel\": {\"namelength\": 0}, \"hovertemplate\": \"differences=%{x}<br>count=%{y}\", \"legendgroup\": \"\", \"marker\": {\"color\": \"rgba(238,118,0,.9)\"}, \"name\": \"\", \"nbinsx\": 100, \"offsetgroup\": \"\", \"orientation\": \"v\", \"showlegend\": false, \"type\": \"histogram\", \"x\": [0.0, 37.012, 36.298, 36.749, 25.834, 38.4, 188.269, 56.109, 98.188, 18.995, 55.63, 28.593, 45.348, 57.431, 3.392, 35.315, 9.592, 300.817, 9.302, 26.096, 200.414, 10.699, 16.107, 21.11, 23.905, 11.346, 12.55, 54.582, 83.984, 42.626, 90.254, 40.576, 163.097, 46.592, 28.254, 127.167, 214.503, 26.58, 77.786, 947.37, 947.563, 206.015, 109.396, 186.127, 20.22, 178.68, 28.256, 84.901, 65.052, 433.235, 17.254, 116.923, 12.294, 119.771, 45.141, 33.982, 85.135, 27.072, 68.582, 204.854, 36.493, 106.575, 128.187, 34.471, 21.04, 170.397, 168.32, 106.182, 221.783, 532.267, 278.155, 339.978, 423.075, 744.041, 747.42, 106.146, 13.046, 120.63, 209.632, 87.229, 35.3, 39.74, 200.792, 526.212, 95.329, 94.478, 291.73, 290.013, 44.529, 243.694, 190.672, 108.393, 158.615, 505.796, 488.972, 269.616, 50.447, 82.044, 123.367, 173.087, 67.881, 179.859, 665.304, 138.813, 68.154, 265.055, 164.233, 106.312, 173.002, 64.771, 139.258, 104.413, 558.848, 352.641, 426.964, 154.739, 245.246, 34.804, 150.165, 115.889, 217.042, 267.135, 20.268, 326.549, 372.128, 19.249, 664.977, 55.796, 109.202, 158.221, 238.689, 0.0, 728.716, 43.544, 123.065, 68.966, 366.019, 789.759, 183.674, 184.826, 249.125, 17.868, 296.573, 92.524, 64.53, 96.187, 125.783, 58.796, 122.307, 239.48, 33.248, 71.005, 99.12, 238.481, 114.339, 260.292, 249.796, 288.923, 213.932, 198.589, 49.328, 117.702, 162.263, 151.039, 200.62, 259.887, 261.558, 62.952, 64.081, 64.881, 66.022, 78.911, 245.294, 172.542, 165.606, 190.613, 256.115, 360.484, 150.689, 141.048, 210.665, 371.734, 171.452, 74.569, 75.598, 153.488, 373.136, 93.735, 233.574, 23.184, 466.086, 480.317, 501.088, 53.492, 74.025, 102.074, 642.311, 674.003, 481.865, 140.624, 299.443, 563.253, 728.783, 56.361, 455.826, 304.872, 316.228, 388.637, 474.385, 1201.842, 896.379, 75.843, 746.658, 28.587, 49.275, 82.879, 199.361, 109.562, 16.969, 71.111, 236.411, 437.708, 754.415, 22.751, 59.598, 1351.862, 112.435, 178.808, 162.108, 367.588, 381.832, 405.234, 1172.873, 156.527, 85.314, 140.945, 202.44, 118.262, 348.362, 323.081, 65.117, 239.317, 259.126, 318.18, 872.045, 46.561, 86.689, 187.047, 260.137, 296.114, 338.846, 353.084, 288.344, 327.614, 424.6, 85.804, 147.204, 200.218, 293.436, 92.592, 131.244, 163.186, 431.124, 460.472, 589.834, 65.138, 71.772, 80.817, 59.504, 337.896, 337.986, 803.698, 92.472, 152.38, 183.205, 234.201, 866.763, 1644.385, 144.231, 778.279, 194.975, 260.304, 78.181, 355.457, 390.388, 44.22, 751.978, 237.113, 309.049, 395.902, 112.3, 3854.141, 4211.746, 4374.306, 1190.536, 682.989, 729.2, 748.187, 771.487, 784.809, 884.782, 914.435, 269.45, 447.7, 696.0, 3656.005, 37.083, 82.337, 164.298, 202.53, 584.825, 621.832, 1248.799, 288.961, 3125.556, 3198.036, 3505.628, 230.448, 523.616, 844.605, 1205.052, 1222.553, 1231.764, 1243.196, 1306.359, 1317.899, 1350.905, 1692.336, 168.734, 219.64, 249.044, 291.861, 325.888, 599.985, 634.898, 1459.212, 1576.907, 1723.442, 2117.186, 5376.459, 84.7, 84.726, 145.083, 221.681, 1520.644, 1636.692, 1744.636, 108.709, 1128.135, 1197.056, 1267.058, 85.008, 162.83, 225.919, 765.347, 844.006, 859.246, 874.613, 1193.645, 1266.083, 1346.453, 19.809, 339.588, 510.812, 575.243, 613.461, 640.301, 698.866, 715.042, 731.946, 788.803, 963.254, 1045.167, 1138.227, 1277.801, 1391.491, 1641.234, 2371.662, 137.445, 146.688, 512.804, 652.17, 685.999, 726.18, 764.66, 861.07, 71.988, 292.803, 1537.505, 1617.694, 1853.696, 1912.593, 2219.322, 2356.03, 2387.794, 2407.658, 262.298, 307.216, 339.637, 430.088, 780.963, 1016.986, 1046.431, 1211.482, 3866.154, 480.547, 2042.017, 2396.512, 2779.419, 62.481, 648.2], \"xaxis\": \"x\", \"yaxis\": \"y\"}],\n",
              "                        {\"barmode\": \"relative\", \"height\": 600, \"legend\": {\"tracegroupgap\": 0}, \"margin\": {\"t\": 60}, \"template\": {\"data\": {\"bar\": [{\"error_x\": {\"color\": \"#2a3f5f\"}, \"error_y\": {\"color\": \"#2a3f5f\"}, \"marker\": {\"line\": {\"color\": \"#E5ECF6\", \"width\": 0.5}}, \"type\": \"bar\"}], \"barpolar\": [{\"marker\": {\"line\": {\"color\": \"#E5ECF6\", \"width\": 0.5}}, \"type\": \"barpolar\"}], \"carpet\": [{\"aaxis\": {\"endlinecolor\": \"#2a3f5f\", \"gridcolor\": \"white\", \"linecolor\": \"white\", \"minorgridcolor\": \"white\", \"startlinecolor\": \"#2a3f5f\"}, \"baxis\": {\"endlinecolor\": \"#2a3f5f\", \"gridcolor\": \"white\", \"linecolor\": \"white\", \"minorgridcolor\": \"white\", \"startlinecolor\": \"#2a3f5f\"}, \"type\": \"carpet\"}], \"choropleth\": [{\"colorbar\": {\"outlinewidth\": 0, \"ticks\": \"\"}, \"type\": \"choropleth\"}], \"contour\": [{\"colorbar\": {\"outlinewidth\": 0, \"ticks\": \"\"}, \"colorscale\": [[0.0, \"#0d0887\"], [0.1111111111111111, \"#46039f\"], [0.2222222222222222, \"#7201a8\"], [0.3333333333333333, \"#9c179e\"], [0.4444444444444444, \"#bd3786\"], [0.5555555555555556, \"#d8576b\"], [0.6666666666666666, \"#ed7953\"], [0.7777777777777778, \"#fb9f3a\"], [0.8888888888888888, \"#fdca26\"], [1.0, \"#f0f921\"]], \"type\": \"contour\"}], \"contourcarpet\": [{\"colorbar\": {\"outlinewidth\": 0, \"ticks\": \"\"}, \"type\": \"contourcarpet\"}], \"heatmap\": [{\"colorbar\": {\"outlinewidth\": 0, \"ticks\": \"\"}, \"colorscale\": [[0.0, \"#0d0887\"], [0.1111111111111111, \"#46039f\"], [0.2222222222222222, \"#7201a8\"], [0.3333333333333333, \"#9c179e\"], [0.4444444444444444, \"#bd3786\"], [0.5555555555555556, \"#d8576b\"], [0.6666666666666666, \"#ed7953\"], [0.7777777777777778, \"#fb9f3a\"], [0.8888888888888888, \"#fdca26\"], [1.0, \"#f0f921\"]], \"type\": \"heatmap\"}], \"heatmapgl\": [{\"colorbar\": {\"outlinewidth\": 0, \"ticks\": \"\"}, \"colorscale\": [[0.0, \"#0d0887\"], [0.1111111111111111, \"#46039f\"], [0.2222222222222222, \"#7201a8\"], [0.3333333333333333, \"#9c179e\"], [0.4444444444444444, \"#bd3786\"], [0.5555555555555556, \"#d8576b\"], [0.6666666666666666, \"#ed7953\"], [0.7777777777777778, \"#fb9f3a\"], [0.8888888888888888, \"#fdca26\"], [1.0, \"#f0f921\"]], \"type\": \"heatmapgl\"}], \"histogram\": [{\"marker\": {\"colorbar\": {\"outlinewidth\": 0, \"ticks\": \"\"}}, \"type\": \"histogram\"}], \"histogram2d\": [{\"colorbar\": {\"outlinewidth\": 0, \"ticks\": \"\"}, \"colorscale\": [[0.0, \"#0d0887\"], [0.1111111111111111, \"#46039f\"], [0.2222222222222222, \"#7201a8\"], [0.3333333333333333, \"#9c179e\"], [0.4444444444444444, \"#bd3786\"], [0.5555555555555556, \"#d8576b\"], [0.6666666666666666, \"#ed7953\"], [0.7777777777777778, \"#fb9f3a\"], [0.8888888888888888, \"#fdca26\"], [1.0, \"#f0f921\"]], \"type\": \"histogram2d\"}], \"histogram2dcontour\": [{\"colorbar\": {\"outlinewidth\": 0, \"ticks\": \"\"}, \"colorscale\": [[0.0, \"#0d0887\"], [0.1111111111111111, \"#46039f\"], [0.2222222222222222, \"#7201a8\"], [0.3333333333333333, \"#9c179e\"], [0.4444444444444444, \"#bd3786\"], [0.5555555555555556, \"#d8576b\"], [0.6666666666666666, \"#ed7953\"], [0.7777777777777778, \"#fb9f3a\"], [0.8888888888888888, \"#fdca26\"], [1.0, \"#f0f921\"]], \"type\": \"histogram2dcontour\"}], \"mesh3d\": [{\"colorbar\": {\"outlinewidth\": 0, \"ticks\": \"\"}, \"type\": \"mesh3d\"}], \"parcoords\": [{\"line\": {\"colorbar\": {\"outlinewidth\": 0, \"ticks\": \"\"}}, \"type\": \"parcoords\"}], \"scatter\": [{\"marker\": {\"colorbar\": {\"outlinewidth\": 0, \"ticks\": \"\"}}, \"type\": \"scatter\"}], \"scatter3d\": [{\"line\": {\"colorbar\": {\"outlinewidth\": 0, \"ticks\": \"\"}}, \"marker\": {\"colorbar\": {\"outlinewidth\": 0, \"ticks\": \"\"}}, \"type\": \"scatter3d\"}], \"scattercarpet\": [{\"marker\": {\"colorbar\": {\"outlinewidth\": 0, \"ticks\": \"\"}}, \"type\": \"scattercarpet\"}], \"scattergeo\": [{\"marker\": {\"colorbar\": {\"outlinewidth\": 0, \"ticks\": \"\"}}, \"type\": \"scattergeo\"}], \"scattergl\": [{\"marker\": {\"colorbar\": {\"outlinewidth\": 0, \"ticks\": \"\"}}, \"type\": \"scattergl\"}], \"scattermapbox\": [{\"marker\": {\"colorbar\": {\"outlinewidth\": 0, \"ticks\": \"\"}}, \"type\": \"scattermapbox\"}], \"scatterpolar\": [{\"marker\": {\"colorbar\": {\"outlinewidth\": 0, \"ticks\": \"\"}}, \"type\": \"scatterpolar\"}], \"scatterpolargl\": [{\"marker\": {\"colorbar\": {\"outlinewidth\": 0, \"ticks\": \"\"}}, \"type\": \"scatterpolargl\"}], \"scatterternary\": [{\"marker\": {\"colorbar\": {\"outlinewidth\": 0, \"ticks\": \"\"}}, \"type\": \"scatterternary\"}], \"surface\": [{\"colorbar\": {\"outlinewidth\": 0, \"ticks\": \"\"}, \"colorscale\": [[0.0, \"#0d0887\"], [0.1111111111111111, \"#46039f\"], [0.2222222222222222, \"#7201a8\"], [0.3333333333333333, \"#9c179e\"], [0.4444444444444444, \"#bd3786\"], [0.5555555555555556, \"#d8576b\"], [0.6666666666666666, \"#ed7953\"], [0.7777777777777778, \"#fb9f3a\"], [0.8888888888888888, \"#fdca26\"], [1.0, \"#f0f921\"]], \"type\": \"surface\"}], \"table\": [{\"cells\": {\"fill\": {\"color\": \"#EBF0F8\"}, \"line\": {\"color\": \"white\"}}, \"header\": {\"fill\": {\"color\": \"#C8D4E3\"}, \"line\": {\"color\": \"white\"}}, \"type\": \"table\"}]}, \"layout\": {\"annotationdefaults\": {\"arrowcolor\": \"#2a3f5f\", \"arrowhead\": 0, \"arrowwidth\": 1}, \"colorscale\": {\"diverging\": [[0, \"#8e0152\"], [0.1, \"#c51b7d\"], [0.2, \"#de77ae\"], [0.3, \"#f1b6da\"], [0.4, \"#fde0ef\"], [0.5, \"#f7f7f7\"], [0.6, \"#e6f5d0\"], [0.7, \"#b8e186\"], [0.8, \"#7fbc41\"], [0.9, \"#4d9221\"], [1, \"#276419\"]], \"sequential\": [[0.0, \"#0d0887\"], [0.1111111111111111, \"#46039f\"], [0.2222222222222222, \"#7201a8\"], [0.3333333333333333, \"#9c179e\"], [0.4444444444444444, \"#bd3786\"], [0.5555555555555556, \"#d8576b\"], [0.6666666666666666, \"#ed7953\"], [0.7777777777777778, \"#fb9f3a\"], [0.8888888888888888, \"#fdca26\"], [1.0, \"#f0f921\"]], \"sequentialminus\": [[0.0, \"#0d0887\"], [0.1111111111111111, \"#46039f\"], [0.2222222222222222, \"#7201a8\"], [0.3333333333333333, \"#9c179e\"], [0.4444444444444444, \"#bd3786\"], [0.5555555555555556, \"#d8576b\"], [0.6666666666666666, \"#ed7953\"], [0.7777777777777778, \"#fb9f3a\"], [0.8888888888888888, \"#fdca26\"], [1.0, \"#f0f921\"]]}, \"colorway\": [\"#636efa\", \"#EF553B\", \"#00cc96\", \"#ab63fa\", \"#FFA15A\", \"#19d3f3\", \"#FF6692\", \"#B6E880\", \"#FF97FF\", \"#FECB52\"], \"font\": {\"color\": \"#2a3f5f\"}, \"geo\": {\"bgcolor\": \"white\", \"lakecolor\": \"white\", \"landcolor\": \"#E5ECF6\", \"showlakes\": true, \"showland\": true, \"subunitcolor\": \"white\"}, \"hoverlabel\": {\"align\": \"left\"}, \"hovermode\": \"closest\", \"mapbox\": {\"style\": \"light\"}, \"paper_bgcolor\": \"white\", \"plot_bgcolor\": \"#E5ECF6\", \"polar\": {\"angularaxis\": {\"gridcolor\": \"white\", \"linecolor\": \"white\", \"ticks\": \"\"}, \"bgcolor\": \"#E5ECF6\", \"radialaxis\": {\"gridcolor\": \"white\", \"linecolor\": \"white\", \"ticks\": \"\"}}, \"scene\": {\"xaxis\": {\"backgroundcolor\": \"#E5ECF6\", \"gridcolor\": \"white\", \"gridwidth\": 2, \"linecolor\": \"white\", \"showbackground\": true, \"ticks\": \"\", \"zerolinecolor\": \"white\"}, \"yaxis\": {\"backgroundcolor\": \"#E5ECF6\", \"gridcolor\": \"white\", \"gridwidth\": 2, \"linecolor\": \"white\", \"showbackground\": true, \"ticks\": \"\", \"zerolinecolor\": \"white\"}, \"zaxis\": {\"backgroundcolor\": \"#E5ECF6\", \"gridcolor\": \"white\", \"gridwidth\": 2, \"linecolor\": \"white\", \"showbackground\": true, \"ticks\": \"\", \"zerolinecolor\": \"white\"}}, \"shapedefaults\": {\"line\": {\"color\": \"#2a3f5f\"}}, \"ternary\": {\"aaxis\": {\"gridcolor\": \"white\", \"linecolor\": \"white\", \"ticks\": \"\"}, \"baxis\": {\"gridcolor\": \"white\", \"linecolor\": \"white\", \"ticks\": \"\"}, \"bgcolor\": \"#E5ECF6\", \"caxis\": {\"gridcolor\": \"white\", \"linecolor\": \"white\", \"ticks\": \"\"}}, \"title\": {\"x\": 0.05}, \"xaxis\": {\"automargin\": true, \"gridcolor\": \"white\", \"linecolor\": \"white\", \"ticks\": \"\", \"zerolinecolor\": \"white\", \"zerolinewidth\": 2}, \"yaxis\": {\"automargin\": true, \"gridcolor\": \"white\", \"linecolor\": \"white\", \"ticks\": \"\", \"zerolinecolor\": \"white\", \"zerolinewidth\": 2}}}, \"xaxis\": {\"anchor\": \"y\", \"domain\": [0.0, 0.98], \"title\": {\"text\": \"differences\"}}, \"yaxis\": {\"anchor\": \"x\", \"domain\": [0.0, 1.0], \"title\": {\"text\": \"count\"}}},\n",
              "                        {\"responsive\": true}\n",
              "                    ).then(function(){\n",
              "                            \n",
              "var gd = document.getElementById('bfda07d9-649b-452f-93d6-cd044f8bef5d');\n",
              "var x = new MutationObserver(function (mutations, observer) {{\n",
              "        var display = window.getComputedStyle(gd).display;\n",
              "        if (!display || display === 'none') {{\n",
              "            console.log([gd, 'removed!']);\n",
              "            Plotly.purge(gd);\n",
              "            observer.disconnect();\n",
              "        }}\n",
              "}});\n",
              "\n",
              "// Listen for the removal of the full notebook cells\n",
              "var notebookContainer = gd.closest('#notebook-container');\n",
              "if (notebookContainer) {{\n",
              "    x.observe(notebookContainer, {childList: true});\n",
              "}}\n",
              "\n",
              "// Listen for the clearing of the current output cell\n",
              "var outputEl = gd.closest('.output');\n",
              "if (outputEl) {{\n",
              "    x.observe(outputEl, {childList: true});\n",
              "}}\n",
              "\n",
              "                        })\n",
              "                };\n",
              "                \n",
              "            </script>\n",
              "        </div>\n",
              "</body>\n",
              "</html>"
            ]
          },
          "metadata": {
            "tags": []
          }
        }
      ]
    },
    {
      "cell_type": "markdown",
      "metadata": {
        "id": "RxOc1R0L1XiI",
        "colab_type": "text"
      },
      "source": [
        "Did those visitors whose time is higher than 2000 face a difficulty to find the product they were looking for?"
      ]
    },
    {
      "cell_type": "markdown",
      "metadata": {
        "id": "97NTJEU7ztwc",
        "colab_type": "text"
      },
      "source": [
        "# 6. Visualise the visits per hour of the day. \n",
        "#  7. What is the peak hour for visits with transactions? Annotate it on the plot of Task 6. "
      ]
    },
    {
      "cell_type": "markdown",
      "metadata": {
        "id": "FFPKjzgJvYwq",
        "colab_type": "text"
      },
      "source": [
        "\n",
        "Legacy SQL\n",
        "``` sql\n",
        "SELECT  HOUR(SEC_TO_TIMESTAMP(visitStartTime)) AS sessionHour,\n",
        "       COUNT(totals.visits) AS sessionCount,\n",
        "       COUNT(totals.transactions) AS transactions\n",
        "FROM [bigquery-public-data.google_analytics_sample.ga_sessions_20170801]\n",
        "GROUP BY sessionHour\n",
        "ORDER BY sessionHour, sessionCount DESC\n",
        "```"
      ]
    },
    {
      "cell_type": "code",
      "metadata": {
        "id": "PWS8fYFEZj5Q",
        "colab_type": "code",
        "cellView": "form",
        "outputId": "5881d3fc-11eb-4143-ed89-1f7952b2b546",
        "colab": {
          "base_uri": "https://localhost:8080/",
          "height": 204
        }
      },
      "source": [
        "#@title About the data\n",
        "\n",
        "path = \"/content/drive/My Drive/dh_data/q_7_6.csv\"\n",
        "veri = pd.read_csv(path)\n",
        "veri.head()"
      ],
      "execution_count": 0,
      "outputs": [
        {
          "output_type": "execute_result",
          "data": {
            "text/html": [
              "<div>\n",
              "<style scoped>\n",
              "    .dataframe tbody tr th:only-of-type {\n",
              "        vertical-align: middle;\n",
              "    }\n",
              "\n",
              "    .dataframe tbody tr th {\n",
              "        vertical-align: top;\n",
              "    }\n",
              "\n",
              "    .dataframe thead th {\n",
              "        text-align: right;\n",
              "    }\n",
              "</style>\n",
              "<table border=\"1\" class=\"dataframe\">\n",
              "  <thead>\n",
              "    <tr style=\"text-align: right;\">\n",
              "      <th></th>\n",
              "      <th>sessionHour</th>\n",
              "      <th>sessionCount</th>\n",
              "      <th>transactions</th>\n",
              "    </tr>\n",
              "  </thead>\n",
              "  <tbody>\n",
              "    <tr>\n",
              "      <th>0</th>\n",
              "      <td>0</td>\n",
              "      <td>87</td>\n",
              "      <td>0</td>\n",
              "    </tr>\n",
              "    <tr>\n",
              "      <th>1</th>\n",
              "      <td>1</td>\n",
              "      <td>102</td>\n",
              "      <td>0</td>\n",
              "    </tr>\n",
              "    <tr>\n",
              "      <th>2</th>\n",
              "      <td>2</td>\n",
              "      <td>84</td>\n",
              "      <td>3</td>\n",
              "    </tr>\n",
              "    <tr>\n",
              "      <th>3</th>\n",
              "      <td>3</td>\n",
              "      <td>99</td>\n",
              "      <td>0</td>\n",
              "    </tr>\n",
              "    <tr>\n",
              "      <th>4</th>\n",
              "      <td>4</td>\n",
              "      <td>79</td>\n",
              "      <td>2</td>\n",
              "    </tr>\n",
              "  </tbody>\n",
              "</table>\n",
              "</div>"
            ],
            "text/plain": [
              "   sessionHour  sessionCount  transactions\n",
              "0            0            87             0\n",
              "1            1           102             0\n",
              "2            2            84             3\n",
              "3            3            99             0\n",
              "4            4            79             2"
            ]
          },
          "metadata": {
            "tags": []
          },
          "execution_count": 8
        }
      ]
    },
    {
      "cell_type": "code",
      "metadata": {
        "id": "OVzYSAcn7Uen",
        "colab_type": "code",
        "outputId": "7cd1a833-8cc9-4c26-ab4c-6114e37a8db6",
        "cellView": "form",
        "colab": {
          "base_uri": "https://localhost:8080/",
          "height": 204
        }
      },
      "source": [
        "#@title Transforming the data for plotting\n",
        "\n",
        "df_melt = veri.melt(id_vars='sessionHour', value_vars=['sessionCount', 'transactions'])\n",
        "df_melt.head()"
      ],
      "execution_count": 0,
      "outputs": [
        {
          "output_type": "execute_result",
          "data": {
            "text/html": [
              "<div>\n",
              "<style scoped>\n",
              "    .dataframe tbody tr th:only-of-type {\n",
              "        vertical-align: middle;\n",
              "    }\n",
              "\n",
              "    .dataframe tbody tr th {\n",
              "        vertical-align: top;\n",
              "    }\n",
              "\n",
              "    .dataframe thead th {\n",
              "        text-align: right;\n",
              "    }\n",
              "</style>\n",
              "<table border=\"1\" class=\"dataframe\">\n",
              "  <thead>\n",
              "    <tr style=\"text-align: right;\">\n",
              "      <th></th>\n",
              "      <th>sessionHour</th>\n",
              "      <th>variable</th>\n",
              "      <th>value</th>\n",
              "    </tr>\n",
              "  </thead>\n",
              "  <tbody>\n",
              "    <tr>\n",
              "      <th>0</th>\n",
              "      <td>0</td>\n",
              "      <td>sessionCount</td>\n",
              "      <td>87</td>\n",
              "    </tr>\n",
              "    <tr>\n",
              "      <th>1</th>\n",
              "      <td>1</td>\n",
              "      <td>sessionCount</td>\n",
              "      <td>102</td>\n",
              "    </tr>\n",
              "    <tr>\n",
              "      <th>2</th>\n",
              "      <td>2</td>\n",
              "      <td>sessionCount</td>\n",
              "      <td>84</td>\n",
              "    </tr>\n",
              "    <tr>\n",
              "      <th>3</th>\n",
              "      <td>3</td>\n",
              "      <td>sessionCount</td>\n",
              "      <td>99</td>\n",
              "    </tr>\n",
              "    <tr>\n",
              "      <th>4</th>\n",
              "      <td>4</td>\n",
              "      <td>sessionCount</td>\n",
              "      <td>79</td>\n",
              "    </tr>\n",
              "  </tbody>\n",
              "</table>\n",
              "</div>"
            ],
            "text/plain": [
              "   sessionHour      variable  value\n",
              "0            0  sessionCount     87\n",
              "1            1  sessionCount    102\n",
              "2            2  sessionCount     84\n",
              "3            3  sessionCount     99\n",
              "4            4  sessionCount     79"
            ]
          },
          "metadata": {
            "tags": []
          },
          "execution_count": 9
        }
      ]
    },
    {
      "cell_type": "code",
      "metadata": {
        "id": "01EM0BpW7PcY",
        "colab_type": "code",
        "cellView": "form",
        "outputId": "77143efd-d3b6-4baf-b6b4-e95626b403d9",
        "colab": {
          "base_uri": "https://localhost:8080/",
          "height": 617
        }
      },
      "source": [
        "#@title Number of Visits and Transactions per Hour of the Day\n",
        "px.line(df_melt, x='sessionHour' , y='value' , color='variable')"
      ],
      "execution_count": 0,
      "outputs": [
        {
          "output_type": "display_data",
          "data": {
            "text/html": [
              "<html>\n",
              "<head><meta charset=\"utf-8\" /></head>\n",
              "<body>\n",
              "    <div>\n",
              "            <script src=\"https://cdnjs.cloudflare.com/ajax/libs/mathjax/2.7.5/MathJax.js?config=TeX-AMS-MML_SVG\"></script><script type=\"text/javascript\">if (window.MathJax) {MathJax.Hub.Config({SVG: {font: \"STIX-Web\"}});}</script>\n",
              "                <script type=\"text/javascript\">window.PlotlyConfig = {MathJaxConfig: 'local'};</script>\n",
              "        <script src=\"https://cdn.plot.ly/plotly-latest.min.js\"></script>    \n",
              "            <div id=\"effc6fce-e3db-40a8-8f55-5086931e48f7\" class=\"plotly-graph-div\" style=\"height:600px; width:100%;\"></div>\n",
              "            <script type=\"text/javascript\">\n",
              "                \n",
              "                    window.PLOTLYENV=window.PLOTLYENV || {};\n",
              "                    \n",
              "                if (document.getElementById(\"effc6fce-e3db-40a8-8f55-5086931e48f7\")) {\n",
              "                    Plotly.newPlot(\n",
              "                        'effc6fce-e3db-40a8-8f55-5086931e48f7',\n",
              "                        [{\"hoverlabel\": {\"namelength\": 0}, \"hovertemplate\": \"variable=sessionCount<br>sessionHour=%{x}<br>value=%{y}\", \"legendgroup\": \"variable=sessionCount\", \"line\": {\"color\": \"#636efa\", \"dash\": \"solid\"}, \"mode\": \"lines\", \"name\": \"variable=sessionCount\", \"showlegend\": true, \"type\": \"scatter\", \"x\": [0, 1, 2, 3, 4, 5, 6, 7, 8, 9, 10, 11, 12, 13, 14, 15, 16, 17, 18, 19, 20, 21, 22, 23], \"xaxis\": \"x\", \"y\": [87, 102, 84, 99, 79, 96, 91, 96, 69, 73, 67, 73, 99, 121, 138, 129, 121, 147, 144, 135, 156, 130, 121, 99], \"yaxis\": \"y\"}, {\"hoverlabel\": {\"namelength\": 0}, \"hovertemplate\": \"variable=transactions<br>sessionHour=%{x}<br>value=%{y}\", \"legendgroup\": \"variable=transactions\", \"line\": {\"color\": \"#EF553B\", \"dash\": \"solid\"}, \"mode\": \"lines\", \"name\": \"variable=transactions\", \"showlegend\": true, \"type\": \"scatter\", \"x\": [0, 1, 2, 3, 4, 5, 6, 7, 8, 9, 10, 11, 12, 13, 14, 15, 16, 17, 18, 19, 20, 21, 22, 23], \"xaxis\": \"x\", \"y\": [0, 0, 3, 0, 2, 1, 0, 0, 0, 0, 0, 0, 0, 1, 5, 2, 5, 6, 3, 3, 3, 4, 4, 1], \"yaxis\": \"y\"}],\n",
              "                        {\"height\": 600, \"legend\": {\"tracegroupgap\": 0}, \"margin\": {\"t\": 60}, \"template\": {\"data\": {\"bar\": [{\"error_x\": {\"color\": \"#2a3f5f\"}, \"error_y\": {\"color\": \"#2a3f5f\"}, \"marker\": {\"line\": {\"color\": \"#E5ECF6\", \"width\": 0.5}}, \"type\": \"bar\"}], \"barpolar\": [{\"marker\": {\"line\": {\"color\": \"#E5ECF6\", \"width\": 0.5}}, \"type\": \"barpolar\"}], \"carpet\": [{\"aaxis\": {\"endlinecolor\": \"#2a3f5f\", \"gridcolor\": \"white\", \"linecolor\": \"white\", \"minorgridcolor\": \"white\", \"startlinecolor\": \"#2a3f5f\"}, \"baxis\": {\"endlinecolor\": \"#2a3f5f\", \"gridcolor\": \"white\", \"linecolor\": \"white\", \"minorgridcolor\": \"white\", \"startlinecolor\": \"#2a3f5f\"}, \"type\": \"carpet\"}], \"choropleth\": [{\"colorbar\": {\"outlinewidth\": 0, \"ticks\": \"\"}, \"type\": \"choropleth\"}], \"contour\": [{\"colorbar\": {\"outlinewidth\": 0, \"ticks\": \"\"}, \"colorscale\": [[0.0, \"#0d0887\"], [0.1111111111111111, \"#46039f\"], [0.2222222222222222, \"#7201a8\"], [0.3333333333333333, \"#9c179e\"], [0.4444444444444444, \"#bd3786\"], [0.5555555555555556, \"#d8576b\"], [0.6666666666666666, \"#ed7953\"], [0.7777777777777778, \"#fb9f3a\"], [0.8888888888888888, \"#fdca26\"], [1.0, \"#f0f921\"]], \"type\": \"contour\"}], \"contourcarpet\": [{\"colorbar\": {\"outlinewidth\": 0, \"ticks\": \"\"}, \"type\": \"contourcarpet\"}], \"heatmap\": [{\"colorbar\": {\"outlinewidth\": 0, \"ticks\": \"\"}, \"colorscale\": [[0.0, \"#0d0887\"], [0.1111111111111111, \"#46039f\"], [0.2222222222222222, \"#7201a8\"], [0.3333333333333333, \"#9c179e\"], [0.4444444444444444, \"#bd3786\"], [0.5555555555555556, \"#d8576b\"], [0.6666666666666666, \"#ed7953\"], [0.7777777777777778, \"#fb9f3a\"], [0.8888888888888888, \"#fdca26\"], [1.0, \"#f0f921\"]], \"type\": \"heatmap\"}], \"heatmapgl\": [{\"colorbar\": {\"outlinewidth\": 0, \"ticks\": \"\"}, \"colorscale\": [[0.0, \"#0d0887\"], [0.1111111111111111, \"#46039f\"], [0.2222222222222222, \"#7201a8\"], [0.3333333333333333, \"#9c179e\"], [0.4444444444444444, \"#bd3786\"], [0.5555555555555556, \"#d8576b\"], [0.6666666666666666, \"#ed7953\"], [0.7777777777777778, \"#fb9f3a\"], [0.8888888888888888, \"#fdca26\"], [1.0, \"#f0f921\"]], \"type\": \"heatmapgl\"}], \"histogram\": [{\"marker\": {\"colorbar\": {\"outlinewidth\": 0, \"ticks\": \"\"}}, \"type\": \"histogram\"}], \"histogram2d\": [{\"colorbar\": {\"outlinewidth\": 0, \"ticks\": \"\"}, \"colorscale\": [[0.0, \"#0d0887\"], [0.1111111111111111, \"#46039f\"], [0.2222222222222222, \"#7201a8\"], [0.3333333333333333, \"#9c179e\"], [0.4444444444444444, \"#bd3786\"], [0.5555555555555556, \"#d8576b\"], [0.6666666666666666, \"#ed7953\"], [0.7777777777777778, \"#fb9f3a\"], [0.8888888888888888, \"#fdca26\"], [1.0, \"#f0f921\"]], \"type\": \"histogram2d\"}], \"histogram2dcontour\": [{\"colorbar\": {\"outlinewidth\": 0, \"ticks\": \"\"}, \"colorscale\": [[0.0, \"#0d0887\"], [0.1111111111111111, \"#46039f\"], [0.2222222222222222, \"#7201a8\"], [0.3333333333333333, \"#9c179e\"], [0.4444444444444444, \"#bd3786\"], [0.5555555555555556, \"#d8576b\"], [0.6666666666666666, \"#ed7953\"], [0.7777777777777778, \"#fb9f3a\"], [0.8888888888888888, \"#fdca26\"], [1.0, \"#f0f921\"]], \"type\": \"histogram2dcontour\"}], \"mesh3d\": [{\"colorbar\": {\"outlinewidth\": 0, \"ticks\": \"\"}, \"type\": \"mesh3d\"}], \"parcoords\": [{\"line\": {\"colorbar\": {\"outlinewidth\": 0, \"ticks\": \"\"}}, \"type\": \"parcoords\"}], \"scatter\": [{\"marker\": {\"colorbar\": {\"outlinewidth\": 0, \"ticks\": \"\"}}, \"type\": \"scatter\"}], \"scatter3d\": [{\"line\": {\"colorbar\": {\"outlinewidth\": 0, \"ticks\": \"\"}}, \"marker\": {\"colorbar\": {\"outlinewidth\": 0, \"ticks\": \"\"}}, \"type\": \"scatter3d\"}], \"scattercarpet\": [{\"marker\": {\"colorbar\": {\"outlinewidth\": 0, \"ticks\": \"\"}}, \"type\": \"scattercarpet\"}], \"scattergeo\": [{\"marker\": {\"colorbar\": {\"outlinewidth\": 0, \"ticks\": \"\"}}, \"type\": \"scattergeo\"}], \"scattergl\": [{\"marker\": {\"colorbar\": {\"outlinewidth\": 0, \"ticks\": \"\"}}, \"type\": \"scattergl\"}], \"scattermapbox\": [{\"marker\": {\"colorbar\": {\"outlinewidth\": 0, \"ticks\": \"\"}}, \"type\": \"scattermapbox\"}], \"scatterpolar\": [{\"marker\": {\"colorbar\": {\"outlinewidth\": 0, \"ticks\": \"\"}}, \"type\": \"scatterpolar\"}], \"scatterpolargl\": [{\"marker\": {\"colorbar\": {\"outlinewidth\": 0, \"ticks\": \"\"}}, \"type\": \"scatterpolargl\"}], \"scatterternary\": [{\"marker\": {\"colorbar\": {\"outlinewidth\": 0, \"ticks\": \"\"}}, \"type\": \"scatterternary\"}], \"surface\": [{\"colorbar\": {\"outlinewidth\": 0, \"ticks\": \"\"}, \"colorscale\": [[0.0, \"#0d0887\"], [0.1111111111111111, \"#46039f\"], [0.2222222222222222, \"#7201a8\"], [0.3333333333333333, \"#9c179e\"], [0.4444444444444444, \"#bd3786\"], [0.5555555555555556, \"#d8576b\"], [0.6666666666666666, \"#ed7953\"], [0.7777777777777778, \"#fb9f3a\"], [0.8888888888888888, \"#fdca26\"], [1.0, \"#f0f921\"]], \"type\": \"surface\"}], \"table\": [{\"cells\": {\"fill\": {\"color\": \"#EBF0F8\"}, \"line\": {\"color\": \"white\"}}, \"header\": {\"fill\": {\"color\": \"#C8D4E3\"}, \"line\": {\"color\": \"white\"}}, \"type\": \"table\"}]}, \"layout\": {\"annotationdefaults\": {\"arrowcolor\": \"#2a3f5f\", \"arrowhead\": 0, \"arrowwidth\": 1}, \"colorscale\": {\"diverging\": [[0, \"#8e0152\"], [0.1, \"#c51b7d\"], [0.2, \"#de77ae\"], [0.3, \"#f1b6da\"], [0.4, \"#fde0ef\"], [0.5, \"#f7f7f7\"], [0.6, \"#e6f5d0\"], [0.7, \"#b8e186\"], [0.8, \"#7fbc41\"], [0.9, \"#4d9221\"], [1, \"#276419\"]], \"sequential\": [[0.0, \"#0d0887\"], [0.1111111111111111, \"#46039f\"], [0.2222222222222222, \"#7201a8\"], [0.3333333333333333, \"#9c179e\"], [0.4444444444444444, \"#bd3786\"], [0.5555555555555556, \"#d8576b\"], [0.6666666666666666, \"#ed7953\"], [0.7777777777777778, \"#fb9f3a\"], [0.8888888888888888, \"#fdca26\"], [1.0, \"#f0f921\"]], \"sequentialminus\": [[0.0, \"#0d0887\"], [0.1111111111111111, \"#46039f\"], [0.2222222222222222, \"#7201a8\"], [0.3333333333333333, \"#9c179e\"], [0.4444444444444444, \"#bd3786\"], [0.5555555555555556, \"#d8576b\"], [0.6666666666666666, \"#ed7953\"], [0.7777777777777778, \"#fb9f3a\"], [0.8888888888888888, \"#fdca26\"], [1.0, \"#f0f921\"]]}, \"colorway\": [\"#636efa\", \"#EF553B\", \"#00cc96\", \"#ab63fa\", \"#FFA15A\", \"#19d3f3\", \"#FF6692\", \"#B6E880\", \"#FF97FF\", \"#FECB52\"], \"font\": {\"color\": \"#2a3f5f\"}, \"geo\": {\"bgcolor\": \"white\", \"lakecolor\": \"white\", \"landcolor\": \"#E5ECF6\", \"showlakes\": true, \"showland\": true, \"subunitcolor\": \"white\"}, \"hoverlabel\": {\"align\": \"left\"}, \"hovermode\": \"closest\", \"mapbox\": {\"style\": \"light\"}, \"paper_bgcolor\": \"white\", \"plot_bgcolor\": \"#E5ECF6\", \"polar\": {\"angularaxis\": {\"gridcolor\": \"white\", \"linecolor\": \"white\", \"ticks\": \"\"}, \"bgcolor\": \"#E5ECF6\", \"radialaxis\": {\"gridcolor\": \"white\", \"linecolor\": \"white\", \"ticks\": \"\"}}, \"scene\": {\"xaxis\": {\"backgroundcolor\": \"#E5ECF6\", \"gridcolor\": \"white\", \"gridwidth\": 2, \"linecolor\": \"white\", \"showbackground\": true, \"ticks\": \"\", \"zerolinecolor\": \"white\"}, \"yaxis\": {\"backgroundcolor\": \"#E5ECF6\", \"gridcolor\": \"white\", \"gridwidth\": 2, \"linecolor\": \"white\", \"showbackground\": true, \"ticks\": \"\", \"zerolinecolor\": \"white\"}, \"zaxis\": {\"backgroundcolor\": \"#E5ECF6\", \"gridcolor\": \"white\", \"gridwidth\": 2, \"linecolor\": \"white\", \"showbackground\": true, \"ticks\": \"\", \"zerolinecolor\": \"white\"}}, \"shapedefaults\": {\"line\": {\"color\": \"#2a3f5f\"}}, \"ternary\": {\"aaxis\": {\"gridcolor\": \"white\", \"linecolor\": \"white\", \"ticks\": \"\"}, \"baxis\": {\"gridcolor\": \"white\", \"linecolor\": \"white\", \"ticks\": \"\"}, \"bgcolor\": \"#E5ECF6\", \"caxis\": {\"gridcolor\": \"white\", \"linecolor\": \"white\", \"ticks\": \"\"}}, \"title\": {\"x\": 0.05}, \"xaxis\": {\"automargin\": true, \"gridcolor\": \"white\", \"linecolor\": \"white\", \"ticks\": \"\", \"zerolinecolor\": \"white\", \"zerolinewidth\": 2}, \"yaxis\": {\"automargin\": true, \"gridcolor\": \"white\", \"linecolor\": \"white\", \"ticks\": \"\", \"zerolinecolor\": \"white\", \"zerolinewidth\": 2}}}, \"xaxis\": {\"anchor\": \"y\", \"domain\": [0.0, 0.98], \"title\": {\"text\": \"sessionHour\"}}, \"yaxis\": {\"anchor\": \"x\", \"domain\": [0.0, 1.0], \"title\": {\"text\": \"value\"}}},\n",
              "                        {\"responsive\": true}\n",
              "                    ).then(function(){\n",
              "                            \n",
              "var gd = document.getElementById('effc6fce-e3db-40a8-8f55-5086931e48f7');\n",
              "var x = new MutationObserver(function (mutations, observer) {{\n",
              "        var display = window.getComputedStyle(gd).display;\n",
              "        if (!display || display === 'none') {{\n",
              "            console.log([gd, 'removed!']);\n",
              "            Plotly.purge(gd);\n",
              "            observer.disconnect();\n",
              "        }}\n",
              "}});\n",
              "\n",
              "// Listen for the removal of the full notebook cells\n",
              "var notebookContainer = gd.closest('#notebook-container');\n",
              "if (notebookContainer) {{\n",
              "    x.observe(notebookContainer, {childList: true});\n",
              "}}\n",
              "\n",
              "// Listen for the clearing of the current output cell\n",
              "var outputEl = gd.closest('.output');\n",
              "if (outputEl) {{\n",
              "    x.observe(outputEl, {childList: true});\n",
              "}}\n",
              "\n",
              "                        })\n",
              "                };\n",
              "                \n",
              "            </script>\n",
              "        </div>\n",
              "</body>\n",
              "</html>"
            ]
          },
          "metadata": {
            "tags": []
          }
        }
      ]
    },
    {
      "cell_type": "markdown",
      "metadata": {
        "id": "JsNj-1F3zty_",
        "colab_type": "text"
      },
      "source": [
        "> The peak time of the visits is 8 pm.\n",
        "\n",
        "> The peak time of the visits is 2 pm. The number of visits at 2 pm is also higher than the average visits. This indicates that visitors check the products at evening times, buy them after lunchtime.\n",
        "\n",
        "> It would be better not to do maintenance & background tasks that are not related to sales processes at peak times to make the platform faster. Perhaps if the platform is cloud-based and available to increase the number of servers fast then the number of servers can be increased at peak times."
      ]
    },
    {
      "cell_type": "markdown",
      "metadata": {
        "id": "kYpxi0MIYsIn",
        "colab_type": "text"
      },
      "source": [
        "### 7.1 Bounce Rate per Hour of the Day "
      ]
    },
    {
      "cell_type": "code",
      "metadata": {
        "id": "cw4g7D1aY02_",
        "colab_type": "code",
        "cellView": "form",
        "outputId": "8308cca2-1a55-4b4d-b0ba-e82583056c8b",
        "colab": {
          "base_uri": "https://localhost:8080/",
          "height": 170
        }
      },
      "source": [
        "#@title\n",
        "path = \"/content/drive/My Drive/dh_data/bouncerate.csv\"\n",
        "data_bouncerate = pd.read_csv(path)\n",
        "data_bouncerate[\"bounceRate\"].describe()"
      ],
      "execution_count": 0,
      "outputs": [
        {
          "output_type": "execute_result",
          "data": {
            "text/plain": [
              "count    24.000000\n",
              "mean      0.496609\n",
              "std       0.101165\n",
              "min       0.310345\n",
              "25%       0.445822\n",
              "50%       0.477004\n",
              "75%       0.542291\n",
              "max       0.731343\n",
              "Name: bounceRate, dtype: float64"
            ]
          },
          "metadata": {
            "tags": []
          },
          "execution_count": 11
        }
      ]
    },
    {
      "cell_type": "code",
      "metadata": {
        "id": "p9QBxi8LbLkI",
        "colab_type": "code",
        "cellView": "form",
        "colab": {}
      },
      "source": [
        "#@title\n",
        "data_bouncerate = data_bouncerate.sort_values(by=\"sessionHour\")"
      ],
      "execution_count": 0,
      "outputs": []
    },
    {
      "cell_type": "code",
      "metadata": {
        "id": "XSI_IWc_ZQY1",
        "colab_type": "code",
        "cellView": "form",
        "outputId": "af24e9be-8fb5-4092-daa2-c19a53a80c7b",
        "colab": {
          "base_uri": "https://localhost:8080/",
          "height": 617
        }
      },
      "source": [
        "#@title Bounce Rate per Hour of the Day\n",
        "fig71 = px.line(data_bouncerate,x=\"sessionHour\", y=\"bounceRate\", labels={'x':'Session Hour', 'y':'Bounce Rate'})\n",
        "fig71.update_traces(line=dict(color='rgba(77,0,13,.9)'))\n",
        "fig71.show()\n"
      ],
      "execution_count": 0,
      "outputs": [
        {
          "output_type": "display_data",
          "data": {
            "text/html": [
              "<html>\n",
              "<head><meta charset=\"utf-8\" /></head>\n",
              "<body>\n",
              "    <div>\n",
              "            <script src=\"https://cdnjs.cloudflare.com/ajax/libs/mathjax/2.7.5/MathJax.js?config=TeX-AMS-MML_SVG\"></script><script type=\"text/javascript\">if (window.MathJax) {MathJax.Hub.Config({SVG: {font: \"STIX-Web\"}});}</script>\n",
              "                <script type=\"text/javascript\">window.PlotlyConfig = {MathJaxConfig: 'local'};</script>\n",
              "        <script src=\"https://cdn.plot.ly/plotly-latest.min.js\"></script>    \n",
              "            <div id=\"7c1c303f-ad8a-421e-99b8-5034cf6ab72c\" class=\"plotly-graph-div\" style=\"height:600px; width:100%;\"></div>\n",
              "            <script type=\"text/javascript\">\n",
              "                \n",
              "                    window.PLOTLYENV=window.PLOTLYENV || {};\n",
              "                    \n",
              "                if (document.getElementById(\"7c1c303f-ad8a-421e-99b8-5034cf6ab72c\")) {\n",
              "                    Plotly.newPlot(\n",
              "                        '7c1c303f-ad8a-421e-99b8-5034cf6ab72c',\n",
              "                        [{\"hoverlabel\": {\"namelength\": 0}, \"hovertemplate\": \"sessionHour=%{x}<br>bounceRate=%{y}\", \"legendgroup\": \"\", \"line\": {\"color\": \"rgba(77,0,13,.9)\", \"dash\": \"solid\"}, \"mode\": \"lines\", \"name\": \"\", \"showlegend\": false, \"type\": \"scatter\", \"x\": [0, 1, 2, 3, 4, 5, 6, 7, 8, 9, 10, 11, 12, 13, 14, 15, 16, 17, 18, 19, 20, 21, 22, 23], \"xaxis\": \"x\", \"y\": [0.3103448275862069, 0.4607843137254902, 0.5, 0.494949494949495, 0.4430379746835443, 0.46875, 0.5934065934065934, 0.4583333333333333, 0.5217391304347826, 0.6301369863013698, 0.7313432835820896, 0.6438356164383562, 0.6262626262626263, 0.6115702479338843, 0.4710144927536232, 0.4883720930232558, 0.33884297520661155, 0.4829931972789116, 0.4444444444444444, 0.4, 0.36538461538461536, 0.4615384615384616, 0.4462809917355372, 0.5252525252525253], \"yaxis\": \"y\"}],\n",
              "                        {\"height\": 600, \"legend\": {\"tracegroupgap\": 0}, \"margin\": {\"t\": 60}, \"template\": {\"data\": {\"bar\": [{\"error_x\": {\"color\": \"#2a3f5f\"}, \"error_y\": {\"color\": \"#2a3f5f\"}, \"marker\": {\"line\": {\"color\": \"#E5ECF6\", \"width\": 0.5}}, \"type\": \"bar\"}], \"barpolar\": [{\"marker\": {\"line\": {\"color\": \"#E5ECF6\", \"width\": 0.5}}, \"type\": \"barpolar\"}], \"carpet\": [{\"aaxis\": {\"endlinecolor\": \"#2a3f5f\", \"gridcolor\": \"white\", \"linecolor\": \"white\", \"minorgridcolor\": \"white\", \"startlinecolor\": \"#2a3f5f\"}, \"baxis\": {\"endlinecolor\": \"#2a3f5f\", \"gridcolor\": \"white\", \"linecolor\": \"white\", \"minorgridcolor\": \"white\", \"startlinecolor\": \"#2a3f5f\"}, \"type\": \"carpet\"}], \"choropleth\": [{\"colorbar\": {\"outlinewidth\": 0, \"ticks\": \"\"}, \"type\": \"choropleth\"}], \"contour\": [{\"colorbar\": {\"outlinewidth\": 0, \"ticks\": \"\"}, \"colorscale\": [[0.0, \"#0d0887\"], [0.1111111111111111, \"#46039f\"], [0.2222222222222222, \"#7201a8\"], [0.3333333333333333, \"#9c179e\"], [0.4444444444444444, \"#bd3786\"], [0.5555555555555556, \"#d8576b\"], [0.6666666666666666, \"#ed7953\"], [0.7777777777777778, \"#fb9f3a\"], [0.8888888888888888, \"#fdca26\"], [1.0, \"#f0f921\"]], \"type\": \"contour\"}], \"contourcarpet\": [{\"colorbar\": {\"outlinewidth\": 0, \"ticks\": \"\"}, \"type\": \"contourcarpet\"}], \"heatmap\": [{\"colorbar\": {\"outlinewidth\": 0, \"ticks\": \"\"}, \"colorscale\": [[0.0, \"#0d0887\"], [0.1111111111111111, \"#46039f\"], [0.2222222222222222, \"#7201a8\"], [0.3333333333333333, \"#9c179e\"], [0.4444444444444444, \"#bd3786\"], [0.5555555555555556, \"#d8576b\"], [0.6666666666666666, \"#ed7953\"], [0.7777777777777778, \"#fb9f3a\"], [0.8888888888888888, \"#fdca26\"], [1.0, \"#f0f921\"]], \"type\": \"heatmap\"}], \"heatmapgl\": [{\"colorbar\": {\"outlinewidth\": 0, \"ticks\": \"\"}, \"colorscale\": [[0.0, \"#0d0887\"], [0.1111111111111111, \"#46039f\"], [0.2222222222222222, \"#7201a8\"], [0.3333333333333333, \"#9c179e\"], [0.4444444444444444, \"#bd3786\"], [0.5555555555555556, \"#d8576b\"], [0.6666666666666666, \"#ed7953\"], [0.7777777777777778, \"#fb9f3a\"], [0.8888888888888888, \"#fdca26\"], [1.0, \"#f0f921\"]], \"type\": \"heatmapgl\"}], \"histogram\": [{\"marker\": {\"colorbar\": {\"outlinewidth\": 0, \"ticks\": \"\"}}, \"type\": \"histogram\"}], \"histogram2d\": [{\"colorbar\": {\"outlinewidth\": 0, \"ticks\": \"\"}, \"colorscale\": [[0.0, \"#0d0887\"], [0.1111111111111111, \"#46039f\"], [0.2222222222222222, \"#7201a8\"], [0.3333333333333333, \"#9c179e\"], [0.4444444444444444, \"#bd3786\"], [0.5555555555555556, \"#d8576b\"], [0.6666666666666666, \"#ed7953\"], [0.7777777777777778, \"#fb9f3a\"], [0.8888888888888888, \"#fdca26\"], [1.0, \"#f0f921\"]], \"type\": \"histogram2d\"}], \"histogram2dcontour\": [{\"colorbar\": {\"outlinewidth\": 0, \"ticks\": \"\"}, \"colorscale\": [[0.0, \"#0d0887\"], [0.1111111111111111, \"#46039f\"], [0.2222222222222222, \"#7201a8\"], [0.3333333333333333, \"#9c179e\"], [0.4444444444444444, \"#bd3786\"], [0.5555555555555556, \"#d8576b\"], [0.6666666666666666, \"#ed7953\"], [0.7777777777777778, \"#fb9f3a\"], [0.8888888888888888, \"#fdca26\"], [1.0, \"#f0f921\"]], \"type\": \"histogram2dcontour\"}], \"mesh3d\": [{\"colorbar\": {\"outlinewidth\": 0, \"ticks\": \"\"}, \"type\": \"mesh3d\"}], \"parcoords\": [{\"line\": {\"colorbar\": {\"outlinewidth\": 0, \"ticks\": \"\"}}, \"type\": \"parcoords\"}], \"scatter\": [{\"marker\": {\"colorbar\": {\"outlinewidth\": 0, \"ticks\": \"\"}}, \"type\": \"scatter\"}], \"scatter3d\": [{\"line\": {\"colorbar\": {\"outlinewidth\": 0, \"ticks\": \"\"}}, \"marker\": {\"colorbar\": {\"outlinewidth\": 0, \"ticks\": \"\"}}, \"type\": \"scatter3d\"}], \"scattercarpet\": [{\"marker\": {\"colorbar\": {\"outlinewidth\": 0, \"ticks\": \"\"}}, \"type\": \"scattercarpet\"}], \"scattergeo\": [{\"marker\": {\"colorbar\": {\"outlinewidth\": 0, \"ticks\": \"\"}}, \"type\": \"scattergeo\"}], \"scattergl\": [{\"marker\": {\"colorbar\": {\"outlinewidth\": 0, \"ticks\": \"\"}}, \"type\": \"scattergl\"}], \"scattermapbox\": [{\"marker\": {\"colorbar\": {\"outlinewidth\": 0, \"ticks\": \"\"}}, \"type\": \"scattermapbox\"}], \"scatterpolar\": [{\"marker\": {\"colorbar\": {\"outlinewidth\": 0, \"ticks\": \"\"}}, \"type\": \"scatterpolar\"}], \"scatterpolargl\": [{\"marker\": {\"colorbar\": {\"outlinewidth\": 0, \"ticks\": \"\"}}, \"type\": \"scatterpolargl\"}], \"scatterternary\": [{\"marker\": {\"colorbar\": {\"outlinewidth\": 0, \"ticks\": \"\"}}, \"type\": \"scatterternary\"}], \"surface\": [{\"colorbar\": {\"outlinewidth\": 0, \"ticks\": \"\"}, \"colorscale\": [[0.0, \"#0d0887\"], [0.1111111111111111, \"#46039f\"], [0.2222222222222222, \"#7201a8\"], [0.3333333333333333, \"#9c179e\"], [0.4444444444444444, \"#bd3786\"], [0.5555555555555556, \"#d8576b\"], [0.6666666666666666, \"#ed7953\"], [0.7777777777777778, \"#fb9f3a\"], [0.8888888888888888, \"#fdca26\"], [1.0, \"#f0f921\"]], \"type\": \"surface\"}], \"table\": [{\"cells\": {\"fill\": {\"color\": \"#EBF0F8\"}, \"line\": {\"color\": \"white\"}}, \"header\": {\"fill\": {\"color\": \"#C8D4E3\"}, \"line\": {\"color\": \"white\"}}, \"type\": \"table\"}]}, \"layout\": {\"annotationdefaults\": {\"arrowcolor\": \"#2a3f5f\", \"arrowhead\": 0, \"arrowwidth\": 1}, \"colorscale\": {\"diverging\": [[0, \"#8e0152\"], [0.1, \"#c51b7d\"], [0.2, \"#de77ae\"], [0.3, \"#f1b6da\"], [0.4, \"#fde0ef\"], [0.5, \"#f7f7f7\"], [0.6, \"#e6f5d0\"], [0.7, \"#b8e186\"], [0.8, \"#7fbc41\"], [0.9, \"#4d9221\"], [1, \"#276419\"]], \"sequential\": [[0.0, \"#0d0887\"], [0.1111111111111111, \"#46039f\"], [0.2222222222222222, \"#7201a8\"], [0.3333333333333333, \"#9c179e\"], [0.4444444444444444, \"#bd3786\"], [0.5555555555555556, \"#d8576b\"], [0.6666666666666666, \"#ed7953\"], [0.7777777777777778, \"#fb9f3a\"], [0.8888888888888888, \"#fdca26\"], [1.0, \"#f0f921\"]], \"sequentialminus\": [[0.0, \"#0d0887\"], [0.1111111111111111, \"#46039f\"], [0.2222222222222222, \"#7201a8\"], [0.3333333333333333, \"#9c179e\"], [0.4444444444444444, \"#bd3786\"], [0.5555555555555556, \"#d8576b\"], [0.6666666666666666, \"#ed7953\"], [0.7777777777777778, \"#fb9f3a\"], [0.8888888888888888, \"#fdca26\"], [1.0, \"#f0f921\"]]}, \"colorway\": [\"#636efa\", \"#EF553B\", \"#00cc96\", \"#ab63fa\", \"#FFA15A\", \"#19d3f3\", \"#FF6692\", \"#B6E880\", \"#FF97FF\", \"#FECB52\"], \"font\": {\"color\": \"#2a3f5f\"}, \"geo\": {\"bgcolor\": \"white\", \"lakecolor\": \"white\", \"landcolor\": \"#E5ECF6\", \"showlakes\": true, \"showland\": true, \"subunitcolor\": \"white\"}, \"hoverlabel\": {\"align\": \"left\"}, \"hovermode\": \"closest\", \"mapbox\": {\"style\": \"light\"}, \"paper_bgcolor\": \"white\", \"plot_bgcolor\": \"#E5ECF6\", \"polar\": {\"angularaxis\": {\"gridcolor\": \"white\", \"linecolor\": \"white\", \"ticks\": \"\"}, \"bgcolor\": \"#E5ECF6\", \"radialaxis\": {\"gridcolor\": \"white\", \"linecolor\": \"white\", \"ticks\": \"\"}}, \"scene\": {\"xaxis\": {\"backgroundcolor\": \"#E5ECF6\", \"gridcolor\": \"white\", \"gridwidth\": 2, \"linecolor\": \"white\", \"showbackground\": true, \"ticks\": \"\", \"zerolinecolor\": \"white\"}, \"yaxis\": {\"backgroundcolor\": \"#E5ECF6\", \"gridcolor\": \"white\", \"gridwidth\": 2, \"linecolor\": \"white\", \"showbackground\": true, \"ticks\": \"\", \"zerolinecolor\": \"white\"}, \"zaxis\": {\"backgroundcolor\": \"#E5ECF6\", \"gridcolor\": \"white\", \"gridwidth\": 2, \"linecolor\": \"white\", \"showbackground\": true, \"ticks\": \"\", \"zerolinecolor\": \"white\"}}, \"shapedefaults\": {\"line\": {\"color\": \"#2a3f5f\"}}, \"ternary\": {\"aaxis\": {\"gridcolor\": \"white\", \"linecolor\": \"white\", \"ticks\": \"\"}, \"baxis\": {\"gridcolor\": \"white\", \"linecolor\": \"white\", \"ticks\": \"\"}, \"bgcolor\": \"#E5ECF6\", \"caxis\": {\"gridcolor\": \"white\", \"linecolor\": \"white\", \"ticks\": \"\"}}, \"title\": {\"x\": 0.05}, \"xaxis\": {\"automargin\": true, \"gridcolor\": \"white\", \"linecolor\": \"white\", \"ticks\": \"\", \"zerolinecolor\": \"white\", \"zerolinewidth\": 2}, \"yaxis\": {\"automargin\": true, \"gridcolor\": \"white\", \"linecolor\": \"white\", \"ticks\": \"\", \"zerolinecolor\": \"white\", \"zerolinewidth\": 2}}}, \"xaxis\": {\"anchor\": \"y\", \"domain\": [0.0, 0.98], \"title\": {\"text\": \"sessionHour\"}}, \"yaxis\": {\"anchor\": \"x\", \"domain\": [0.0, 1.0], \"title\": {\"text\": \"bounceRate\"}}},\n",
              "                        {\"responsive\": true}\n",
              "                    ).then(function(){\n",
              "                            \n",
              "var gd = document.getElementById('7c1c303f-ad8a-421e-99b8-5034cf6ab72c');\n",
              "var x = new MutationObserver(function (mutations, observer) {{\n",
              "        var display = window.getComputedStyle(gd).display;\n",
              "        if (!display || display === 'none') {{\n",
              "            console.log([gd, 'removed!']);\n",
              "            Plotly.purge(gd);\n",
              "            observer.disconnect();\n",
              "        }}\n",
              "}});\n",
              "\n",
              "// Listen for the removal of the full notebook cells\n",
              "var notebookContainer = gd.closest('#notebook-container');\n",
              "if (notebookContainer) {{\n",
              "    x.observe(notebookContainer, {childList: true});\n",
              "}}\n",
              "\n",
              "// Listen for the clearing of the current output cell\n",
              "var outputEl = gd.closest('.output');\n",
              "if (outputEl) {{\n",
              "    x.observe(outputEl, {childList: true});\n",
              "}}\n",
              "\n",
              "                        })\n",
              "                };\n",
              "                \n",
              "            </script>\n",
              "        </div>\n",
              "</body>\n",
              "</html>"
            ]
          },
          "metadata": {
            "tags": []
          }
        }
      ]
    },
    {
      "cell_type": "markdown",
      "metadata": {
        "id": "0Jm8WalpeHbM",
        "colab_type": "text"
      },
      "source": [
        "The highest bounce rate occurs at 10 am. This chart is not surprising after seeing the peak times of the visits."
      ]
    },
    {
      "cell_type": "markdown",
      "metadata": {
        "id": "Zi6BEFeyzt6Q",
        "colab_type": "text"
      },
      "source": [
        "# 8. Plot a histogram of time spent on the platform. "
      ]
    },
    {
      "cell_type": "markdown",
      "metadata": {
        "id": "lWfOXy_rolLy",
        "colab_type": "text"
      },
      "source": [
        "\n",
        "Standard SQL\n",
        "\n",
        "```sql\n",
        "\n",
        "SELECT\n",
        "  COUNT(fullVisitorId) AS num_visitors,\n",
        "  timeOnSite\n",
        "FROM (\n",
        "  SELECT\n",
        "    totals.timeOnSite as timeOnSite,\n",
        "    fullVisitorId\n",
        "  FROM\n",
        "    `bigquery-public-data.google_analytics_sample.ga_sessions_20170801`\n",
        "  WHERE\n",
        "    totals.timeOnSite IS NOT NULL)\n",
        "GROUP BY\n",
        "  timeOnSite\n",
        "\n",
        "```"
      ]
    },
    {
      "cell_type": "code",
      "metadata": {
        "id": "7Ca6lSSVp9o8",
        "colab_type": "code",
        "cellView": "form",
        "outputId": "ff52de6b-2629-4d96-aac3-d99467003402",
        "colab": {
          "base_uri": "https://localhost:8080/",
          "height": 170
        }
      },
      "source": [
        "#@title Main Statistics about the Time Spent on the Platform (in Seconds)\n",
        "\n",
        "path = \"/content/drive/My Drive/dh_data/notcounted_8.csv\"\n",
        "data = pd.read_csv(path)\n",
        "\n",
        "data[\"timeOnSite\"].describe()"
      ],
      "execution_count": 0,
      "outputs": [
        {
          "output_type": "execute_result",
          "data": {
            "text/plain": [
              "count    1310.000000\n",
              "mean      325.051908\n",
              "std       592.411724\n",
              "min         1.000000\n",
              "25%        32.000000\n",
              "50%        96.500000\n",
              "75%       336.750000\n",
              "max      5455.000000\n",
              "Name: timeOnSite, dtype: float64"
            ]
          },
          "metadata": {
            "tags": []
          },
          "execution_count": 14
        }
      ]
    },
    {
      "cell_type": "code",
      "metadata": {
        "id": "0xxhvpOdqMz9",
        "colab_type": "code",
        "cellView": "form",
        "outputId": "248ac51c-79ba-4aea-a650-1ef9cc63ae73",
        "colab": {
          "base_uri": "https://localhost:8080/",
          "height": 617
        }
      },
      "source": [
        "#@title Histogram of Time Spent on the Platform\n",
        "\n",
        "fig8 = px.histogram(data, x=\"timeOnSite\", nbins=150)\n",
        "fig8.update_traces(marker=dict(color='rgba(204, 44, 36, .9)'))\n",
        "\n",
        "fig8.show()"
      ],
      "execution_count": 0,
      "outputs": [
        {
          "output_type": "display_data",
          "data": {
            "text/html": [
              "<html>\n",
              "<head><meta charset=\"utf-8\" /></head>\n",
              "<body>\n",
              "    <div>\n",
              "            <script src=\"https://cdnjs.cloudflare.com/ajax/libs/mathjax/2.7.5/MathJax.js?config=TeX-AMS-MML_SVG\"></script><script type=\"text/javascript\">if (window.MathJax) {MathJax.Hub.Config({SVG: {font: \"STIX-Web\"}});}</script>\n",
              "                <script type=\"text/javascript\">window.PlotlyConfig = {MathJaxConfig: 'local'};</script>\n",
              "        <script src=\"https://cdn.plot.ly/plotly-latest.min.js\"></script>    \n",
              "            <div id=\"cdf365e5-18cd-48ad-85f2-cf7b1b573963\" class=\"plotly-graph-div\" style=\"height:600px; width:100%;\"></div>\n",
              "            <script type=\"text/javascript\">\n",
              "                \n",
              "                    window.PLOTLYENV=window.PLOTLYENV || {};\n",
              "                    \n",
              "                if (document.getElementById(\"cdf365e5-18cd-48ad-85f2-cf7b1b573963\")) {\n",
              "                    Plotly.newPlot(\n",
              "                        'cdf365e5-18cd-48ad-85f2-cf7b1b573963',\n",
              "                        [{\"alignmentgroup\": \"True\", \"bingroup\": \"x\", \"hoverlabel\": {\"namelength\": 0}, \"hovertemplate\": \"timeOnSite=%{x}<br>count=%{y}\", \"legendgroup\": \"\", \"marker\": {\"color\": \"rgba(204, 44, 36, .9)\"}, \"name\": \"\", \"nbinsx\": 150, \"offsetgroup\": \"\", \"orientation\": \"v\", \"showlegend\": false, \"type\": \"histogram\", \"x\": [21, 22, 14, 60, 6, 1, 17, 154, 48, 24, 45, 30, 536, 30, 34, 10, 27, 131, 39, 45, 64, 46, 25, 10, 87, 10, 19, 11, 23, 37, 161, 501, 61, 8, 290, 48, 87, 12, 21, 31, 35, 16, 80, 6, 31, 31, 98, 57, 353, 8, 44, 54, 10, 29, 137, 12, 629, 27, 56, 17, 447, 7, 34, 35, 973, 131, 77, 30, 28, 11, 762, 540, 118, 17, 495, 103, 7, 14, 36, 41, 46, 73, 15, 9, 27, 58, 1335, 43, 22, 111, 8, 35, 954, 46, 33, 17, 8, 27, 7, 810, 5, 6, 5, 21, 17, 27, 42, 57, 27, 36, 37, 16, 306, 38, 24, 177, 90, 12, 277, 58, 6, 13, 25, 149, 30, 1179, 9, 320, 13, 18, 86, 6, 25, 8, 82, 57, 3, 5, 3, 10, 7, 8, 3, 5, 4, 4, 2, 3, 21, 6, 1725, 5, 7, 10, 8, 10, 8, 12, 9, 5, 5, 14, 4, 4, 14, 4, 189, 32, 6, 10, 3, 14, 10, 28, 22, 3, 1, 5, 114, 6, 5, 54, 9, 11, 456, 13, 17, 15, 7, 4, 16, 10, 23, 43, 17, 9, 11, 4, 3, 5, 45, 37, 2, 35, 8, 20, 47, 25, 5, 32, 13, 39, 48, 77, 6, 5, 8, 11, 23, 26, 22, 5, 42, 32, 58, 816, 761, 98, 16, 55, 16, 33, 13, 36, 21, 41, 21, 127, 27, 137, 11, 21, 22, 43, 11, 122, 185, 16, 12, 153, 26, 51, 11, 68, 6, 22, 7, 8, 290, 278, 38, 57, 21, 12, 3, 48, 134, 122, 293, 21, 46, 5, 26, 5, 664, 14, 77, 26, 24, 35, 14, 24, 70, 56, 5, 36, 23, 16, 24, 24, 11, 49, 70, 29, 33, 88, 111, 13, 285, 23, 2, 177, 538, 226, 18, 427, 12, 15, 72, 19, 53, 29, 55, 220, 32, 12, 70, 255, 62, 85, 130, 22, 25, 24, 190, 37, 46, 38, 71, 76, 34, 18, 27, 43, 21, 50, 505, 84, 53, 37, 16, 5, 34, 50, 87, 47, 94, 123, 41, 95, 21, 30, 66, 29, 65, 41, 1, 24, 38, 33, 187, 53, 135, 167, 132, 47, 66, 31, 91, 1008, 41, 41, 617, 69, 275, 706, 479, 128, 70, 75, 12, 11, 23, 26, 36, 14, 768, 20, 18, 16, 16, 941, 82, 1095, 16, 14, 11, 17, 31, 13, 56, 14, 1162, 67, 27, 29, 34, 44, 19, 56, 142, 39, 23, 6, 22, 22, 41, 33, 28, 67, 31, 26, 35, 51, 19, 22, 24, 22, 19, 53, 38, 22, 66, 45, 62, 53, 24, 28, 19, 22, 96, 29, 5, 23, 118, 54, 11, 18, 1223, 10, 30, 13, 87, 1194, 6, 19, 8, 15, 11, 18, 24, 12, 32, 90, 86, 137, 13, 194, 63, 37, 24, 149, 38, 25, 237, 99, 122, 37, 29, 78, 186, 189, 26, 47, 64, 40, 32, 75, 20, 68, 223, 45, 272, 22, 18, 14, 77, 60, 18, 65, 19, 43, 44, 265, 19, 17, 27, 25, 9, 89, 90, 43, 49, 46, 45, 413, 22, 30, 838, 116, 66, 41, 354, 214, 68, 76, 81, 207, 80, 239, 13, 77, 42, 828, 158, 29, 760, 153, 31, 55, 41, 249, 93, 390, 12, 89, 1723, 94, 538, 147, 44, 755, 1, 36, 83, 78, 34, 22, 30, 46, 453, 64, 1668, 35, 110, 119, 168, 36, 27, 213, 21, 19, 95, 94, 225, 61, 42, 34, 29, 47, 52, 140, 116, 79, 60, 223, 236, 51, 144, 37, 37, 29, 418, 239, 93, 44, 57, 928, 206, 43, 136, 205, 24, 138, 202, 301, 190, 610, 72, 16, 112, 70, 199, 466, 59, 74, 59, 90, 48, 85, 23, 99, 351, 310, 327, 39, 67, 41, 74, 449, 20, 37, 18, 69, 195, 111, 59, 102, 166, 75, 27, 53, 120, 40, 64, 29, 280, 107, 81, 127, 31, 91, 56, 43, 81, 37, 39, 65, 778, 116, 102, 40, 50, 138, 75, 42, 32, 83, 47, 70, 672, 14, 53, 278, 191, 61, 98, 11, 97, 158, 98, 35, 23, 68, 45, 70, 106, 61, 307, 85, 29, 44, 179, 110, 56, 564, 69, 202, 45, 99, 60, 57, 55, 100, 130, 140, 100, 561, 263, 33, 52, 570, 287, 126, 122, 39, 128, 60, 70, 634, 156, 83, 85, 302, 72, 65, 84, 46, 86, 161, 1824, 131, 269, 145, 149, 138, 1664, 35, 447, 3078, 1219, 29, 98, 2005, 34, 84, 150, 104, 104, 354, 597, 122, 99, 64, 107, 629, 68, 60, 222, 27, 75, 29, 77, 1205, 64, 234, 306, 143, 443, 669, 29, 45, 398, 215, 67, 54, 106, 209, 102, 64, 420, 1345, 143, 19, 99, 24, 26, 13, 301, 213, 16, 58, 266, 409, 363, 80, 237, 451, 2210, 206, 228, 877, 136, 142, 30, 88, 48, 92, 181, 109, 47, 14, 93, 227, 195, 45, 72, 169, 209, 93, 35, 358, 141, 527, 98, 168, 20, 128, 24, 156, 113, 333, 32, 124, 38, 68, 66, 105, 269, 968, 121, 45, 117, 132, 126, 396, 152, 979, 187, 1025, 309, 91, 203, 580, 47, 280, 1057, 200, 62, 494, 125, 325, 100, 203, 277, 613, 216, 158, 259, 56, 125, 825, 33, 342, 135, 1040, 212, 28, 77, 457, 86, 963, 237, 336, 51, 184, 1114, 112, 1676, 166, 287, 130, 45, 135, 155, 157, 325, 112, 704, 427, 45, 132, 88, 114, 150, 111, 47, 1221, 119, 125, 461, 591, 1224, 160, 116, 523, 429, 102, 129, 20, 294, 213, 249, 1505, 139, 109, 126, 124, 275, 102, 146, 1560, 370, 93, 599, 451, 120, 78, 111, 118, 1451, 430, 1681, 58, 586, 130, 59, 95, 173, 5362, 233, 198, 415, 238, 281, 248, 225, 1077, 565, 53, 589, 272, 512, 731, 456, 340, 212, 685, 666, 358, 750, 228, 1215, 273, 288, 143, 1192, 341, 190, 316, 80, 121, 212, 569, 380, 153, 194, 420, 374, 106, 2815, 269, 203, 1320, 400, 688, 116, 177, 188, 1283, 626, 292, 380, 188, 157, 515, 467, 545, 469, 175, 701, 245, 237, 193, 485, 96, 135, 286, 310, 749, 466, 491, 311, 364, 70, 140, 364, 782, 1471, 271, 631, 255, 239, 1415, 646, 517, 671, 208, 325, 640, 152, 314, 431, 294, 795, 559, 353, 250, 178, 1514, 847, 149, 1053, 135, 498, 477, 507, 353, 230, 237, 443, 1474, 320, 151, 189, 270, 197, 554, 262, 2225, 665, 514, 2725, 178, 241, 484, 1721, 732, 505, 230, 713, 965, 802, 504, 744, 1634, 1612, 201, 735, 484, 219, 758, 585, 1102, 1162, 716, 1114, 162, 1145, 604, 326, 385, 675, 1203, 676, 1187, 196, 433, 459, 127, 238, 334, 966, 778, 309, 292, 309, 1349, 293, 204, 2328, 176, 263, 154, 1157, 401, 463, 1478, 384, 330, 261, 647, 966, 524, 390, 429, 312, 662, 333, 656, 705, 343, 3092, 1926, 396, 234, 503, 629, 139, 678, 950, 647, 455, 627, 628, 278, 1376, 914, 3261, 2445, 1065, 262, 1209, 565, 332, 1021, 2011, 335, 561, 936, 277, 553, 239, 757, 1795, 605, 1133, 1414, 441, 1533, 672, 1150, 336, 957, 2684, 846, 794, 761, 1005, 1176, 4238, 561, 2772, 426, 495, 3441, 465, 263, 874, 2344, 3156, 365, 378, 693, 922, 832, 647, 840, 1548, 832, 2112, 870, 2055, 2171, 1383, 487, 639, 3250, 806, 413, 722, 4379, 882, 1681, 1222, 1278, 923, 676, 935, 852, 1546, 4345, 1405, 1689, 4885, 2451, 1701, 840, 2543, 5455, 2025, 1827, 1501, 1685, 3363, 1572, 2374, 1792, 2493, 4444, 3316, 220, 1, 37, 57, 78, 21, 42, 26, 103, 913, 92, 59, 17, 52, 337, 10, 6, 8, 152, 297, 89, 56, 14, 4, 69, 13, 198, 31, 27, 100, 212, 39, 556, 44, 429, 1254, 53, 126, 62, 54, 94, 1199, 21, 40, 249, 28, 198, 43, 613, 154, 74, 70, 619, 98, 53, 1449, 41, 467, 493], \"xaxis\": \"x\", \"yaxis\": \"y\"}],\n",
              "                        {\"barmode\": \"relative\", \"height\": 600, \"legend\": {\"tracegroupgap\": 0}, \"margin\": {\"t\": 60}, \"template\": {\"data\": {\"bar\": [{\"error_x\": {\"color\": \"#2a3f5f\"}, \"error_y\": {\"color\": \"#2a3f5f\"}, \"marker\": {\"line\": {\"color\": \"#E5ECF6\", \"width\": 0.5}}, \"type\": \"bar\"}], \"barpolar\": [{\"marker\": {\"line\": {\"color\": \"#E5ECF6\", \"width\": 0.5}}, \"type\": \"barpolar\"}], \"carpet\": [{\"aaxis\": {\"endlinecolor\": \"#2a3f5f\", \"gridcolor\": \"white\", \"linecolor\": \"white\", \"minorgridcolor\": \"white\", \"startlinecolor\": \"#2a3f5f\"}, \"baxis\": {\"endlinecolor\": \"#2a3f5f\", \"gridcolor\": \"white\", \"linecolor\": \"white\", \"minorgridcolor\": \"white\", \"startlinecolor\": \"#2a3f5f\"}, \"type\": \"carpet\"}], \"choropleth\": [{\"colorbar\": {\"outlinewidth\": 0, \"ticks\": \"\"}, \"type\": \"choropleth\"}], \"contour\": [{\"colorbar\": {\"outlinewidth\": 0, \"ticks\": \"\"}, \"colorscale\": [[0.0, \"#0d0887\"], [0.1111111111111111, \"#46039f\"], [0.2222222222222222, \"#7201a8\"], [0.3333333333333333, \"#9c179e\"], [0.4444444444444444, \"#bd3786\"], [0.5555555555555556, \"#d8576b\"], [0.6666666666666666, \"#ed7953\"], [0.7777777777777778, \"#fb9f3a\"], [0.8888888888888888, \"#fdca26\"], [1.0, \"#f0f921\"]], \"type\": \"contour\"}], \"contourcarpet\": [{\"colorbar\": {\"outlinewidth\": 0, \"ticks\": \"\"}, \"type\": \"contourcarpet\"}], \"heatmap\": [{\"colorbar\": {\"outlinewidth\": 0, \"ticks\": \"\"}, \"colorscale\": [[0.0, \"#0d0887\"], [0.1111111111111111, \"#46039f\"], [0.2222222222222222, \"#7201a8\"], [0.3333333333333333, \"#9c179e\"], [0.4444444444444444, \"#bd3786\"], [0.5555555555555556, \"#d8576b\"], [0.6666666666666666, \"#ed7953\"], [0.7777777777777778, \"#fb9f3a\"], [0.8888888888888888, \"#fdca26\"], [1.0, \"#f0f921\"]], \"type\": \"heatmap\"}], \"heatmapgl\": [{\"colorbar\": {\"outlinewidth\": 0, \"ticks\": \"\"}, \"colorscale\": [[0.0, \"#0d0887\"], [0.1111111111111111, \"#46039f\"], [0.2222222222222222, \"#7201a8\"], [0.3333333333333333, \"#9c179e\"], [0.4444444444444444, \"#bd3786\"], [0.5555555555555556, \"#d8576b\"], [0.6666666666666666, \"#ed7953\"], [0.7777777777777778, \"#fb9f3a\"], [0.8888888888888888, \"#fdca26\"], [1.0, \"#f0f921\"]], \"type\": \"heatmapgl\"}], \"histogram\": [{\"marker\": {\"colorbar\": {\"outlinewidth\": 0, \"ticks\": \"\"}}, \"type\": \"histogram\"}], \"histogram2d\": [{\"colorbar\": {\"outlinewidth\": 0, \"ticks\": \"\"}, \"colorscale\": [[0.0, \"#0d0887\"], [0.1111111111111111, \"#46039f\"], [0.2222222222222222, \"#7201a8\"], [0.3333333333333333, \"#9c179e\"], [0.4444444444444444, \"#bd3786\"], [0.5555555555555556, \"#d8576b\"], [0.6666666666666666, \"#ed7953\"], [0.7777777777777778, \"#fb9f3a\"], [0.8888888888888888, \"#fdca26\"], [1.0, \"#f0f921\"]], \"type\": \"histogram2d\"}], \"histogram2dcontour\": [{\"colorbar\": {\"outlinewidth\": 0, \"ticks\": \"\"}, \"colorscale\": [[0.0, \"#0d0887\"], [0.1111111111111111, \"#46039f\"], [0.2222222222222222, \"#7201a8\"], [0.3333333333333333, \"#9c179e\"], [0.4444444444444444, \"#bd3786\"], [0.5555555555555556, \"#d8576b\"], [0.6666666666666666, \"#ed7953\"], [0.7777777777777778, \"#fb9f3a\"], [0.8888888888888888, \"#fdca26\"], [1.0, \"#f0f921\"]], \"type\": \"histogram2dcontour\"}], \"mesh3d\": [{\"colorbar\": {\"outlinewidth\": 0, \"ticks\": \"\"}, \"type\": \"mesh3d\"}], \"parcoords\": [{\"line\": {\"colorbar\": {\"outlinewidth\": 0, \"ticks\": \"\"}}, \"type\": \"parcoords\"}], \"scatter\": [{\"marker\": {\"colorbar\": {\"outlinewidth\": 0, \"ticks\": \"\"}}, \"type\": \"scatter\"}], \"scatter3d\": [{\"line\": {\"colorbar\": {\"outlinewidth\": 0, \"ticks\": \"\"}}, \"marker\": {\"colorbar\": {\"outlinewidth\": 0, \"ticks\": \"\"}}, \"type\": \"scatter3d\"}], \"scattercarpet\": [{\"marker\": {\"colorbar\": {\"outlinewidth\": 0, \"ticks\": \"\"}}, \"type\": \"scattercarpet\"}], \"scattergeo\": [{\"marker\": {\"colorbar\": {\"outlinewidth\": 0, \"ticks\": \"\"}}, \"type\": \"scattergeo\"}], \"scattergl\": [{\"marker\": {\"colorbar\": {\"outlinewidth\": 0, \"ticks\": \"\"}}, \"type\": \"scattergl\"}], \"scattermapbox\": [{\"marker\": {\"colorbar\": {\"outlinewidth\": 0, \"ticks\": \"\"}}, \"type\": \"scattermapbox\"}], \"scatterpolar\": [{\"marker\": {\"colorbar\": {\"outlinewidth\": 0, \"ticks\": \"\"}}, \"type\": \"scatterpolar\"}], \"scatterpolargl\": [{\"marker\": {\"colorbar\": {\"outlinewidth\": 0, \"ticks\": \"\"}}, \"type\": \"scatterpolargl\"}], \"scatterternary\": [{\"marker\": {\"colorbar\": {\"outlinewidth\": 0, \"ticks\": \"\"}}, \"type\": \"scatterternary\"}], \"surface\": [{\"colorbar\": {\"outlinewidth\": 0, \"ticks\": \"\"}, \"colorscale\": [[0.0, \"#0d0887\"], [0.1111111111111111, \"#46039f\"], [0.2222222222222222, \"#7201a8\"], [0.3333333333333333, \"#9c179e\"], [0.4444444444444444, \"#bd3786\"], [0.5555555555555556, \"#d8576b\"], [0.6666666666666666, \"#ed7953\"], [0.7777777777777778, \"#fb9f3a\"], [0.8888888888888888, \"#fdca26\"], [1.0, \"#f0f921\"]], \"type\": \"surface\"}], \"table\": [{\"cells\": {\"fill\": {\"color\": \"#EBF0F8\"}, \"line\": {\"color\": \"white\"}}, \"header\": {\"fill\": {\"color\": \"#C8D4E3\"}, \"line\": {\"color\": \"white\"}}, \"type\": \"table\"}]}, \"layout\": {\"annotationdefaults\": {\"arrowcolor\": \"#2a3f5f\", \"arrowhead\": 0, \"arrowwidth\": 1}, \"colorscale\": {\"diverging\": [[0, \"#8e0152\"], [0.1, \"#c51b7d\"], [0.2, \"#de77ae\"], [0.3, \"#f1b6da\"], [0.4, \"#fde0ef\"], [0.5, \"#f7f7f7\"], [0.6, \"#e6f5d0\"], [0.7, \"#b8e186\"], [0.8, \"#7fbc41\"], [0.9, \"#4d9221\"], [1, \"#276419\"]], \"sequential\": [[0.0, \"#0d0887\"], [0.1111111111111111, \"#46039f\"], [0.2222222222222222, \"#7201a8\"], [0.3333333333333333, \"#9c179e\"], [0.4444444444444444, \"#bd3786\"], [0.5555555555555556, \"#d8576b\"], [0.6666666666666666, \"#ed7953\"], [0.7777777777777778, \"#fb9f3a\"], [0.8888888888888888, \"#fdca26\"], [1.0, \"#f0f921\"]], \"sequentialminus\": [[0.0, \"#0d0887\"], [0.1111111111111111, \"#46039f\"], [0.2222222222222222, \"#7201a8\"], [0.3333333333333333, \"#9c179e\"], [0.4444444444444444, \"#bd3786\"], [0.5555555555555556, \"#d8576b\"], [0.6666666666666666, \"#ed7953\"], [0.7777777777777778, \"#fb9f3a\"], [0.8888888888888888, \"#fdca26\"], [1.0, \"#f0f921\"]]}, \"colorway\": [\"#636efa\", \"#EF553B\", \"#00cc96\", \"#ab63fa\", \"#FFA15A\", \"#19d3f3\", \"#FF6692\", \"#B6E880\", \"#FF97FF\", \"#FECB52\"], \"font\": {\"color\": \"#2a3f5f\"}, \"geo\": {\"bgcolor\": \"white\", \"lakecolor\": \"white\", \"landcolor\": \"#E5ECF6\", \"showlakes\": true, \"showland\": true, \"subunitcolor\": \"white\"}, \"hoverlabel\": {\"align\": \"left\"}, \"hovermode\": \"closest\", \"mapbox\": {\"style\": \"light\"}, \"paper_bgcolor\": \"white\", \"plot_bgcolor\": \"#E5ECF6\", \"polar\": {\"angularaxis\": {\"gridcolor\": \"white\", \"linecolor\": \"white\", \"ticks\": \"\"}, \"bgcolor\": \"#E5ECF6\", \"radialaxis\": {\"gridcolor\": \"white\", \"linecolor\": \"white\", \"ticks\": \"\"}}, \"scene\": {\"xaxis\": {\"backgroundcolor\": \"#E5ECF6\", \"gridcolor\": \"white\", \"gridwidth\": 2, \"linecolor\": \"white\", \"showbackground\": true, \"ticks\": \"\", \"zerolinecolor\": \"white\"}, \"yaxis\": {\"backgroundcolor\": \"#E5ECF6\", \"gridcolor\": \"white\", \"gridwidth\": 2, \"linecolor\": \"white\", \"showbackground\": true, \"ticks\": \"\", \"zerolinecolor\": \"white\"}, \"zaxis\": {\"backgroundcolor\": \"#E5ECF6\", \"gridcolor\": \"white\", \"gridwidth\": 2, \"linecolor\": \"white\", \"showbackground\": true, \"ticks\": \"\", \"zerolinecolor\": \"white\"}}, \"shapedefaults\": {\"line\": {\"color\": \"#2a3f5f\"}}, \"ternary\": {\"aaxis\": {\"gridcolor\": \"white\", \"linecolor\": \"white\", \"ticks\": \"\"}, \"baxis\": {\"gridcolor\": \"white\", \"linecolor\": \"white\", \"ticks\": \"\"}, \"bgcolor\": \"#E5ECF6\", \"caxis\": {\"gridcolor\": \"white\", \"linecolor\": \"white\", \"ticks\": \"\"}}, \"title\": {\"x\": 0.05}, \"xaxis\": {\"automargin\": true, \"gridcolor\": \"white\", \"linecolor\": \"white\", \"ticks\": \"\", \"zerolinecolor\": \"white\", \"zerolinewidth\": 2}, \"yaxis\": {\"automargin\": true, \"gridcolor\": \"white\", \"linecolor\": \"white\", \"ticks\": \"\", \"zerolinecolor\": \"white\", \"zerolinewidth\": 2}}}, \"xaxis\": {\"anchor\": \"y\", \"domain\": [0.0, 0.98], \"title\": {\"text\": \"timeOnSite\"}}, \"yaxis\": {\"anchor\": \"x\", \"domain\": [0.0, 1.0], \"title\": {\"text\": \"count\"}}},\n",
              "                        {\"responsive\": true}\n",
              "                    ).then(function(){\n",
              "                            \n",
              "var gd = document.getElementById('cdf365e5-18cd-48ad-85f2-cf7b1b573963');\n",
              "var x = new MutationObserver(function (mutations, observer) {{\n",
              "        var display = window.getComputedStyle(gd).display;\n",
              "        if (!display || display === 'none') {{\n",
              "            console.log([gd, 'removed!']);\n",
              "            Plotly.purge(gd);\n",
              "            observer.disconnect();\n",
              "        }}\n",
              "}});\n",
              "\n",
              "// Listen for the removal of the full notebook cells\n",
              "var notebookContainer = gd.closest('#notebook-container');\n",
              "if (notebookContainer) {{\n",
              "    x.observe(notebookContainer, {childList: true});\n",
              "}}\n",
              "\n",
              "// Listen for the clearing of the current output cell\n",
              "var outputEl = gd.closest('.output');\n",
              "if (outputEl) {{\n",
              "    x.observe(outputEl, {childList: true});\n",
              "}}\n",
              "\n",
              "                        })\n",
              "                };\n",
              "                \n",
              "            </script>\n",
              "        </div>\n",
              "</body>\n",
              "</html>"
            ]
          },
          "metadata": {
            "tags": []
          }
        }
      ]
    },
    {
      "cell_type": "markdown",
      "metadata": {
        "id": "xK2sj9G1uHBf",
        "colab_type": "text"
      },
      "source": [
        "Most of the visitors spend time on the platform between 0- 99 seconds.\n",
        "It is seen that there are outliers who spend time on the platform more than 2000 seconds."
      ]
    },
    {
      "cell_type": "markdown",
      "metadata": {
        "id": "LjraFhso0LJO",
        "colab_type": "text"
      },
      "source": [
        "# 9. Do you see any correlation between time spent on the platform and the total revenue? Try to explain with a plot and comment on it."
      ]
    },
    {
      "cell_type": "markdown",
      "metadata": {
        "id": "0y2eGOYuwi0p",
        "colab_type": "text"
      },
      "source": [
        "\n",
        "Standard SQL\n",
        "\n",
        "``` sql\n",
        "SELECT\n",
        "  totals.timeOnSite AS timeOnSite,\n",
        "  totals.totalTransactionRevenue,\n",
        "  fullVisitorId\n",
        "FROM\n",
        "  `bigquery-public-data.google_analytics_sample.ga_sessions_20170801`\n",
        "WHERE\n",
        "  totals.timeOnSite IS NOT NULL\n",
        "```"
      ]
    },
    {
      "cell_type": "code",
      "metadata": {
        "id": "IOPX43t2r9vg",
        "colab_type": "code",
        "cellView": "form",
        "outputId": "811911c1-309e-4f75-d4e6-81d7db375e6a",
        "colab": {
          "base_uri": "https://localhost:8080/",
          "height": 204
        }
      },
      "source": [
        "#@title About the Data\n",
        "\n",
        "path = \"/content/drive/My Drive/dh_data/q_9.csv\"\n",
        "data_q9 = pd.read_csv(path)\n",
        "data_q9.head()"
      ],
      "execution_count": 0,
      "outputs": [
        {
          "output_type": "execute_result",
          "data": {
            "text/html": [
              "<div>\n",
              "<style scoped>\n",
              "    .dataframe tbody tr th:only-of-type {\n",
              "        vertical-align: middle;\n",
              "    }\n",
              "\n",
              "    .dataframe tbody tr th {\n",
              "        vertical-align: top;\n",
              "    }\n",
              "\n",
              "    .dataframe thead th {\n",
              "        text-align: right;\n",
              "    }\n",
              "</style>\n",
              "<table border=\"1\" class=\"dataframe\">\n",
              "  <thead>\n",
              "    <tr style=\"text-align: right;\">\n",
              "      <th></th>\n",
              "      <th>timeOnSite</th>\n",
              "      <th>totalTransactionRevenue</th>\n",
              "      <th>fullVisitorId</th>\n",
              "    </tr>\n",
              "  </thead>\n",
              "  <tbody>\n",
              "    <tr>\n",
              "      <th>0</th>\n",
              "      <td>21</td>\n",
              "      <td>NaN</td>\n",
              "      <td>9563201247433687898</td>\n",
              "    </tr>\n",
              "    <tr>\n",
              "      <th>1</th>\n",
              "      <td>22</td>\n",
              "      <td>NaN</td>\n",
              "      <td>446881336866901267</td>\n",
              "    </tr>\n",
              "    <tr>\n",
              "      <th>2</th>\n",
              "      <td>14</td>\n",
              "      <td>NaN</td>\n",
              "      <td>7639981567880780476</td>\n",
              "    </tr>\n",
              "    <tr>\n",
              "      <th>3</th>\n",
              "      <td>60</td>\n",
              "      <td>NaN</td>\n",
              "      <td>1323143631015435941</td>\n",
              "    </tr>\n",
              "    <tr>\n",
              "      <th>4</th>\n",
              "      <td>6</td>\n",
              "      <td>NaN</td>\n",
              "      <td>5170381678885002061</td>\n",
              "    </tr>\n",
              "  </tbody>\n",
              "</table>\n",
              "</div>"
            ],
            "text/plain": [
              "   timeOnSite  totalTransactionRevenue        fullVisitorId\n",
              "0          21                      NaN  9563201247433687898\n",
              "1          22                      NaN   446881336866901267\n",
              "2          14                      NaN  7639981567880780476\n",
              "3          60                      NaN  1323143631015435941\n",
              "4           6                      NaN  5170381678885002061"
            ]
          },
          "metadata": {
            "tags": []
          },
          "execution_count": 16
        }
      ]
    },
    {
      "cell_type": "code",
      "metadata": {
        "id": "2yqL_4O0s0bR",
        "colab_type": "code",
        "cellView": "form",
        "outputId": "934d76d0-6ee4-4e2b-cda0-c2684a0d3839",
        "colab": {
          "base_uri": "https://localhost:8080/",
          "height": 418
        }
      },
      "source": [
        "#@title\n",
        "\n",
        "column_names=[\"timeOnSite\",\"totalTransactionRevenue\"]\n",
        "data_for_corr= data_q9[column_names]\n",
        "\n",
        "def CheckingCorrelations(df,colorstyle):\n",
        "\n",
        "    column_names=df.columns \n",
        "    num = len(column_names)\n",
        "    correlations = df[column_names].corr()\n",
        "    print(correlations)\n",
        "\n",
        "    fig = plt.figure(figsize=[8, 6])\n",
        "    ax = fig.add_subplot(111)\n",
        "    cax = ax.matshow(correlations, vmin=-1, vmax=1,cmap=colorstyle)  \n",
        "    fig.colorbar(cax)\n",
        "    ticks = np.arange(0, num, 1)\n",
        "    ax.set_xticks(ticks)\n",
        "    ax.set_yticks(ticks)\n",
        "    ax.set_xticklabels(column_names)\n",
        "    ax.set_yticklabels(column_names)\n",
        "    ax.tick_params(labelsize=13)\n",
        "    plt.show()\n",
        "\n",
        "CheckingCorrelations(data_for_corr,'GnBu')"
      ],
      "execution_count": 0,
      "outputs": [
        {
          "output_type": "stream",
          "text": [
            "                         timeOnSite  totalTransactionRevenue\n",
            "timeOnSite                 1.000000                 0.049149\n",
            "totalTransactionRevenue    0.049149                 1.000000\n"
          ],
          "name": "stdout"
        },
        {
          "output_type": "display_data",
          "data": {
            "image/png": "[encoded data removed]",
            "text/plain": [
              "<Figure size 576x432 with 2 Axes>"
            ]
          },
          "metadata": {
            "tags": []
          }
        }
      ]
    },
    {
      "cell_type": "markdown",
      "metadata": {
        "id": "5SkMvzFEwRoY",
        "colab_type": "text"
      },
      "source": [
        "> In contrast to the common expectation, there is no relation between time spent on the platform and the total revenue. Regarding this, it would be good to make the purchasing process faster, help users to find the products they are looking for or help them to find out the products they need or want.\n",
        "\n"
      ]
    },
    {
      "cell_type": "markdown",
      "metadata": {
        "id": "Se9uscTi0ZEt",
        "colab_type": "text"
      },
      "source": [
        "#10. Try to visualise the pair distribution (2D) of the time spent on the platform and total number of hits, for each visit. Compare and comment on such distribution for top two countries with most traffic. \n"
      ]
    },
    {
      "cell_type": "markdown",
      "metadata": {
        "id": "qnduCCsrPp6u",
        "colab_type": "text"
      },
      "source": [
        "Standard SQL\n",
        "\n",
        "``` sql\n",
        "SELECT\n",
        "  totals.hits,\n",
        "  totals.timeonsite,\n",
        "  visitid\n",
        "FROM\n",
        "  `bigquery-public-data.google_analytics_sample.ga_sessions_20170801`\n",
        "WHERE\n",
        "  totals.timeonsite IS NOT NULL\n",
        "  AND geoNetwork.country='United States'\n",
        "```"
      ]
    },
    {
      "cell_type": "markdown",
      "metadata": {
        "id": "KxDvQYHJS0aG",
        "colab_type": "text"
      },
      "source": [
        "**USA**\n",
        "\n",
        "\n",
        "---\n",
        "\n",
        "\n",
        "\n",
        "\n"
      ]
    },
    {
      "cell_type": "code",
      "metadata": {
        "id": "NUoBYM5tus3j",
        "colab_type": "code",
        "cellView": "form",
        "outputId": "06dda978-cbf8-47b2-883d-3de6f7a1fa31",
        "colab": {
          "base_uri": "https://localhost:8080/",
          "height": 297
        }
      },
      "source": [
        "#@title About the Data\n",
        "\n",
        "path = \"/content/drive/My Drive/dh_data/q10_US.csv\"\n",
        "data_q10_us = pd.read_csv(path)\n",
        "data_q10_us.describe()"
      ],
      "execution_count": 0,
      "outputs": [
        {
          "output_type": "execute_result",
          "data": {
            "text/html": [
              "<div>\n",
              "<style scoped>\n",
              "    .dataframe tbody tr th:only-of-type {\n",
              "        vertical-align: middle;\n",
              "    }\n",
              "\n",
              "    .dataframe tbody tr th {\n",
              "        vertical-align: top;\n",
              "    }\n",
              "\n",
              "    .dataframe thead th {\n",
              "        text-align: right;\n",
              "    }\n",
              "</style>\n",
              "<table border=\"1\" class=\"dataframe\">\n",
              "  <thead>\n",
              "    <tr style=\"text-align: right;\">\n",
              "      <th></th>\n",
              "      <th>hits</th>\n",
              "      <th>timeonsite</th>\n",
              "      <th>visitid</th>\n",
              "    </tr>\n",
              "  </thead>\n",
              "  <tbody>\n",
              "    <tr>\n",
              "      <th>count</th>\n",
              "      <td>820.000000</td>\n",
              "      <td>820.000000</td>\n",
              "      <td>8.200000e+02</td>\n",
              "    </tr>\n",
              "    <tr>\n",
              "      <th>mean</th>\n",
              "      <td>10.512195</td>\n",
              "      <td>368.608537</td>\n",
              "      <td>1.501620e+09</td>\n",
              "    </tr>\n",
              "    <tr>\n",
              "      <th>std</th>\n",
              "      <td>15.591664</td>\n",
              "      <td>650.388708</td>\n",
              "      <td>1.851463e+04</td>\n",
              "    </tr>\n",
              "    <tr>\n",
              "      <th>min</th>\n",
              "      <td>2.000000</td>\n",
              "      <td>1.000000</td>\n",
              "      <td>1.501570e+09</td>\n",
              "    </tr>\n",
              "    <tr>\n",
              "      <th>25%</th>\n",
              "      <td>3.000000</td>\n",
              "      <td>31.000000</td>\n",
              "      <td>1.501606e+09</td>\n",
              "    </tr>\n",
              "    <tr>\n",
              "      <th>50%</th>\n",
              "      <td>5.000000</td>\n",
              "      <td>108.000000</td>\n",
              "      <td>1.501620e+09</td>\n",
              "    </tr>\n",
              "    <tr>\n",
              "      <th>75%</th>\n",
              "      <td>12.000000</td>\n",
              "      <td>404.000000</td>\n",
              "      <td>1.501634e+09</td>\n",
              "    </tr>\n",
              "    <tr>\n",
              "      <th>max</th>\n",
              "      <td>193.000000</td>\n",
              "      <td>5455.000000</td>\n",
              "      <td>1.501657e+09</td>\n",
              "    </tr>\n",
              "  </tbody>\n",
              "</table>\n",
              "</div>"
            ],
            "text/plain": [
              "             hits   timeonsite       visitid\n",
              "count  820.000000   820.000000  8.200000e+02\n",
              "mean    10.512195   368.608537  1.501620e+09\n",
              "std     15.591664   650.388708  1.851463e+04\n",
              "min      2.000000     1.000000  1.501570e+09\n",
              "25%      3.000000    31.000000  1.501606e+09\n",
              "50%      5.000000   108.000000  1.501620e+09\n",
              "75%     12.000000   404.000000  1.501634e+09\n",
              "max    193.000000  5455.000000  1.501657e+09"
            ]
          },
          "metadata": {
            "tags": []
          },
          "execution_count": 18
        }
      ]
    },
    {
      "cell_type": "code",
      "metadata": {
        "id": "zsu1cyJ_vAl0",
        "colab_type": "code",
        "cellView": "form",
        "outputId": "abfab3f9-d0a5-4799-b317-fcd3a4f2ea1c",
        "colab": {
          "base_uri": "https://localhost:8080/",
          "height": 617
        }
      },
      "source": [
        "#@title Time Spent on the Platform vs Total Number of Hits in United States\n",
        "\n",
        "fig = px.scatter(data_q10_us, x=\"timeonsite\", y=\"hits\")\n",
        "fig.update_traces(marker=dict(size=5,color='rgba(49, 17, 65, .9)'))\n",
        "\n",
        "fig.show()"
      ],
      "execution_count": 0,
      "outputs": [
        {
          "output_type": "display_data",
          "data": {
            "text/html": [
              "<html>\n",
              "<head><meta charset=\"utf-8\" /></head>\n",
              "<body>\n",
              "    <div>\n",
              "            <script src=\"https://cdnjs.cloudflare.com/ajax/libs/mathjax/2.7.5/MathJax.js?config=TeX-AMS-MML_SVG\"></script><script type=\"text/javascript\">if (window.MathJax) {MathJax.Hub.Config({SVG: {font: \"STIX-Web\"}});}</script>\n",
              "                <script type=\"text/javascript\">window.PlotlyConfig = {MathJaxConfig: 'local'};</script>\n",
              "        <script src=\"https://cdn.plot.ly/plotly-latest.min.js\"></script>    \n",
              "            <div id=\"495c6cd4-7d0d-4bee-93ea-c9ee27c4f529\" class=\"plotly-graph-div\" style=\"height:600px; width:100%;\"></div>\n",
              "            <script type=\"text/javascript\">\n",
              "                \n",
              "                    window.PLOTLYENV=window.PLOTLYENV || {};\n",
              "                    \n",
              "                if (document.getElementById(\"495c6cd4-7d0d-4bee-93ea-c9ee27c4f529\")) {\n",
              "                    Plotly.newPlot(\n",
              "                        '495c6cd4-7d0d-4bee-93ea-c9ee27c4f529',\n",
              "                        [{\"hoverlabel\": {\"namelength\": 0}, \"hovertemplate\": \"timeonsite=%{x}<br>hits=%{y}\", \"legendgroup\": \"\", \"marker\": {\"color\": \"rgba(49, 17, 65, .9)\", \"size\": 5, \"symbol\": \"circle\"}, \"mode\": \"markers\", \"name\": \"\", \"showlegend\": false, \"type\": \"scatter\", \"x\": [6, 1, 154, 48, 30, 536, 27, 131, 39, 45, 64, 25, 10, 87, 10, 11, 23, 37, 61, 8, 87, 12, 35, 16, 80, 31, 98, 8, 44, 137, 12, 629, 27, 17, 447, 11, 540, 118, 14, 36, 111, 8, 35, 954, 33, 17, 8, 27, 810, 5, 6, 5, 21, 42, 57, 27, 37, 13, 149, 9, 320, 18, 6, 25, 8, 82, 3, 5, 3, 7, 8, 3, 5, 4, 2, 3, 1725, 7, 8, 8, 12, 5, 4, 4, 189, 3, 14, 10, 22, 3, 1, 5, 6, 5, 456, 13, 15, 16, 10, 9, 11, 4, 5, 2, 8, 25, 5, 13, 39, 48, 77, 6, 11, 26, 22, 5, 32, 98, 16, 16, 33, 13, 36, 21, 41, 21, 127, 27, 11, 43, 122, 185, 16, 12, 51, 11, 68, 22, 7, 8, 38, 21, 3, 134, 293, 5, 14, 26, 35, 14, 56, 36, 16, 24, 11, 29, 111, 13, 285, 23, 2, 538, 427, 15, 19, 29, 220, 32, 12, 70, 62, 22, 25, 24, 37, 71, 27, 21, 50, 84, 53, 37, 16, 5, 34, 50, 87, 47, 123, 41, 95, 21, 30, 66, 29, 187, 135, 167, 47, 66, 31, 12, 11, 23, 26, 14, 768, 20, 16, 16, 941, 82, 1095, 16, 14, 11, 17, 31, 13, 14, 1162, 67, 27, 29, 19, 23, 22, 22, 41, 28, 67, 31, 35, 19, 22, 24, 22, 19, 53, 38, 22, 45, 62, 53, 24, 28, 19, 96, 29, 5, 23, 11, 30, 13, 87, 6, 19, 11, 18, 24, 12, 32, 86, 137, 13, 194, 63, 37, 24, 149, 38, 237, 99, 37, 29, 78, 186, 189, 26, 47, 64, 75, 20, 68, 223, 22, 18, 14, 77, 60, 18, 65, 19, 19, 27, 9, 49, 45, 413, 22, 30, 838, 66, 76, 81, 239, 13, 158, 29, 55, 41, 249, 390, 89, 1723, 94, 538, 147, 755, 1, 83, 78, 34, 30, 46, 35, 110, 119, 36, 27, 213, 19, 95, 225, 42, 29, 47, 52, 116, 79, 51, 37, 37, 29, 418, 239, 93, 57, 928, 206, 43, 136, 138, 301, 190, 610, 16, 112, 70, 59, 74, 59, 23, 99, 351, 310, 39, 67, 74, 449, 20, 37, 18, 102, 166, 75, 40, 64, 29, 107, 31, 91, 56, 43, 37, 39, 778, 116, 102, 40, 138, 83, 47, 70, 53, 278, 191, 61, 98, 35, 68, 106, 307, 85, 44, 110, 56, 564, 69, 202, 99, 60, 57, 55, 561, 263, 33, 52, 287, 126, 122, 128, 60, 70, 634, 85, 302, 72, 65, 84, 161, 1824, 131, 269, 145, 149, 1664, 35, 3078, 1219, 29, 98, 34, 150, 104, 122, 99, 107, 68, 60, 222, 75, 29, 77, 1205, 64, 143, 45, 398, 67, 106, 64, 1345, 19, 99, 24, 26, 13, 301, 16, 58, 363, 80, 237, 2210, 206, 228, 877, 136, 142, 30, 48, 109, 227, 195, 72, 209, 93, 35, 358, 141, 527, 98, 20, 24, 156, 38, 105, 269, 121, 45, 126, 187, 1025, 309, 203, 580, 47, 1057, 200, 494, 125, 100, 203, 277, 613, 216, 158, 56, 125, 825, 33, 135, 212, 28, 457, 112, 1676, 166, 130, 45, 135, 155, 157, 325, 112, 704, 427, 45, 88, 114, 150, 111, 47, 125, 461, 591, 116, 102, 129, 20, 249, 126, 124, 275, 102, 146, 1560, 370, 93, 599, 451, 120, 78, 111, 118, 1681, 586, 130, 59, 173, 233, 415, 238, 281, 225, 1077, 272, 512, 731, 456, 340, 212, 666, 358, 750, 228, 1215, 273, 288, 143, 1192, 341, 316, 80, 212, 380, 153, 420, 374, 106, 203, 116, 177, 188, 1283, 626, 292, 157, 515, 469, 701, 237, 193, 96, 135, 286, 310, 749, 466, 491, 311, 364, 70, 140, 364, 782, 1471, 271, 631, 255, 239, 1415, 208, 325, 640, 314, 294, 559, 250, 1514, 847, 149, 498, 477, 507, 237, 443, 1474, 320, 151, 270, 197, 554, 262, 2225, 665, 514, 2725, 178, 241, 1721, 732, 713, 965, 802, 1612, 201, 735, 219, 758, 1102, 716, 1114, 162, 604, 385, 675, 1203, 1187, 196, 459, 127, 966, 778, 292, 1349, 293, 204, 2328, 176, 263, 1157, 401, 1478, 384, 330, 261, 647, 966, 524, 429, 662, 333, 705, 343, 3092, 1926, 396, 503, 139, 678, 950, 455, 627, 628, 278, 1376, 914, 3261, 2445, 1065, 262, 565, 332, 1021, 2011, 335, 561, 936, 277, 239, 757, 1795, 605, 1133, 1414, 441, 1533, 672, 1150, 336, 2684, 846, 794, 761, 1005, 1176, 4238, 561, 2772, 426, 495, 3441, 465, 263, 874, 2344, 3156, 365, 378, 693, 922, 832, 647, 840, 1548, 870, 2171, 1383, 487, 639, 3250, 806, 413, 722, 882, 1222, 1278, 923, 852, 1546, 4345, 1405, 1689, 4885, 1701, 840, 2543, 5455, 2025, 1827, 1501, 1685, 3363, 1572, 2374, 1792, 2493, 4444, 3316, 1, 913, 8, 89, 198, 27, 100, 39, 1254, 62, 54, 94, 1199, 21, 249, 613, 53, 1449, 41], \"xaxis\": \"x\", \"y\": [2, 2, 2, 2, 2, 2, 2, 2, 2, 2, 2, 2, 2, 2, 2, 2, 2, 2, 2, 2, 2, 2, 2, 2, 2, 2, 2, 2, 2, 2, 2, 2, 2, 2, 2, 2, 2, 2, 2, 2, 2, 2, 2, 2, 2, 2, 2, 2, 2, 2, 2, 2, 2, 2, 2, 2, 2, 2, 2, 2, 2, 2, 2, 2, 2, 2, 2, 2, 2, 2, 2, 2, 2, 2, 2, 2, 2, 2, 2, 2, 2, 2, 2, 2, 2, 2, 2, 2, 2, 2, 2, 2, 2, 2, 2, 2, 2, 2, 2, 2, 2, 2, 2, 2, 2, 2, 2, 2, 2, 2, 2, 2, 2, 2, 2, 2, 2, 2, 2, 2, 2, 2, 2, 2, 2, 2, 2, 2, 2, 2, 2, 2, 2, 2, 2, 2, 2, 2, 2, 2, 2, 2, 2, 2, 2, 2, 2, 2, 2, 2, 2, 2, 2, 2, 2, 2, 2, 2, 3, 3, 3, 3, 3, 3, 3, 3, 3, 3, 3, 3, 3, 3, 3, 3, 3, 3, 3, 3, 3, 3, 3, 3, 3, 3, 3, 3, 3, 3, 3, 3, 3, 3, 3, 3, 3, 3, 3, 3, 3, 3, 3, 3, 3, 3, 3, 3, 3, 3, 3, 3, 3, 3, 3, 3, 3, 3, 3, 3, 3, 3, 3, 3, 3, 3, 3, 3, 3, 3, 3, 3, 3, 3, 3, 3, 3, 3, 3, 3, 3, 3, 3, 3, 3, 3, 3, 3, 3, 3, 3, 3, 3, 3, 3, 3, 3, 3, 3, 3, 3, 3, 3, 3, 3, 3, 3, 3, 3, 3, 3, 3, 3, 3, 3, 3, 3, 3, 3, 3, 3, 3, 3, 3, 3, 3, 3, 3, 3, 3, 3, 3, 3, 3, 3, 3, 3, 3, 4, 4, 4, 4, 4, 4, 4, 4, 4, 4, 4, 4, 4, 4, 4, 4, 4, 4, 4, 4, 4, 4, 4, 4, 4, 4, 4, 4, 4, 4, 4, 4, 4, 4, 4, 4, 4, 4, 4, 4, 4, 4, 4, 4, 4, 4, 4, 4, 4, 4, 4, 4, 4, 4, 4, 4, 4, 4, 4, 4, 4, 4, 4, 4, 4, 4, 4, 4, 4, 4, 4, 4, 4, 4, 4, 4, 4, 5, 5, 5, 5, 5, 5, 5, 5, 5, 5, 5, 5, 5, 5, 5, 5, 5, 5, 5, 5, 5, 5, 5, 5, 5, 5, 5, 5, 5, 5, 5, 5, 5, 5, 5, 5, 5, 5, 5, 5, 5, 5, 5, 5, 5, 5, 5, 5, 5, 5, 5, 5, 6, 6, 6, 6, 6, 6, 6, 6, 6, 6, 6, 6, 6, 6, 6, 6, 6, 6, 6, 6, 6, 6, 6, 6, 6, 6, 6, 6, 6, 6, 6, 6, 6, 6, 6, 6, 6, 6, 6, 6, 6, 6, 6, 6, 6, 6, 7, 7, 7, 7, 7, 7, 7, 7, 7, 7, 7, 7, 7, 7, 7, 7, 7, 7, 7, 7, 7, 7, 7, 7, 7, 7, 7, 7, 7, 7, 7, 8, 8, 8, 8, 8, 8, 8, 8, 8, 8, 8, 8, 8, 8, 8, 8, 8, 8, 8, 8, 8, 8, 8, 8, 8, 8, 8, 8, 8, 9, 9, 9, 9, 9, 9, 9, 9, 9, 9, 9, 9, 9, 9, 9, 9, 9, 9, 9, 9, 9, 9, 10, 10, 10, 10, 10, 10, 10, 10, 10, 10, 10, 10, 10, 10, 10, 10, 10, 10, 11, 11, 11, 11, 11, 11, 11, 11, 11, 11, 11, 11, 11, 11, 11, 11, 12, 12, 12, 12, 12, 12, 12, 12, 12, 12, 12, 12, 12, 12, 12, 12, 13, 13, 13, 13, 13, 13, 13, 13, 14, 14, 14, 14, 14, 14, 14, 14, 14, 14, 14, 14, 14, 14, 14, 15, 15, 15, 15, 15, 15, 15, 15, 15, 15, 15, 15, 15, 16, 16, 16, 16, 16, 16, 16, 16, 16, 16, 16, 16, 17, 17, 17, 17, 17, 17, 17, 17, 17, 17, 17, 17, 17, 17, 17, 18, 18, 18, 18, 18, 18, 18, 18, 18, 18, 19, 19, 19, 19, 19, 19, 20, 20, 20, 20, 20, 20, 20, 20, 21, 21, 21, 21, 21, 21, 21, 21, 21, 21, 21, 22, 22, 23, 23, 23, 23, 23, 23, 23, 23, 23, 23, 23, 24, 24, 24, 24, 24, 25, 25, 25, 25, 25, 25, 25, 25, 26, 26, 26, 26, 26, 27, 27, 28, 28, 28, 28, 29, 29, 29, 29, 30, 30, 30, 30, 30, 32, 32, 32, 32, 33, 33, 33, 33, 34, 34, 34, 34, 35, 35, 35, 35, 35, 36, 36, 36, 37, 38, 39, 39, 39, 39, 39, 42, 42, 44, 47, 47, 48, 53, 53, 53, 55, 55, 58, 60, 62, 63, 64, 71, 71, 78, 80, 81, 82, 84, 100, 140, 156, 193, 2, 2, 2, 3, 3, 3, 4, 4, 4, 5, 5, 5, 5, 5, 5, 6, 11, 12, 14], \"yaxis\": \"y\"}],\n",
              "                        {\"height\": 600, \"legend\": {\"tracegroupgap\": 0}, \"margin\": {\"t\": 60}, \"template\": {\"data\": {\"bar\": [{\"error_x\": {\"color\": \"#2a3f5f\"}, \"error_y\": {\"color\": \"#2a3f5f\"}, \"marker\": {\"line\": {\"color\": \"#E5ECF6\", \"width\": 0.5}}, \"type\": \"bar\"}], \"barpolar\": [{\"marker\": {\"line\": {\"color\": \"#E5ECF6\", \"width\": 0.5}}, \"type\": \"barpolar\"}], \"carpet\": [{\"aaxis\": {\"endlinecolor\": \"#2a3f5f\", \"gridcolor\": \"white\", \"linecolor\": \"white\", \"minorgridcolor\": \"white\", \"startlinecolor\": \"#2a3f5f\"}, \"baxis\": {\"endlinecolor\": \"#2a3f5f\", \"gridcolor\": \"white\", \"linecolor\": \"white\", \"minorgridcolor\": \"white\", \"startlinecolor\": \"#2a3f5f\"}, \"type\": \"carpet\"}], \"choropleth\": [{\"colorbar\": {\"outlinewidth\": 0, \"ticks\": \"\"}, \"type\": \"choropleth\"}], \"contour\": [{\"colorbar\": {\"outlinewidth\": 0, \"ticks\": \"\"}, \"colorscale\": [[0.0, \"#0d0887\"], [0.1111111111111111, \"#46039f\"], [0.2222222222222222, \"#7201a8\"], [0.3333333333333333, \"#9c179e\"], [0.4444444444444444, \"#bd3786\"], [0.5555555555555556, \"#d8576b\"], [0.6666666666666666, \"#ed7953\"], [0.7777777777777778, \"#fb9f3a\"], [0.8888888888888888, \"#fdca26\"], [1.0, \"#f0f921\"]], \"type\": \"contour\"}], \"contourcarpet\": [{\"colorbar\": {\"outlinewidth\": 0, \"ticks\": \"\"}, \"type\": \"contourcarpet\"}], \"heatmap\": [{\"colorbar\": {\"outlinewidth\": 0, \"ticks\": \"\"}, \"colorscale\": [[0.0, \"#0d0887\"], [0.1111111111111111, \"#46039f\"], [0.2222222222222222, \"#7201a8\"], [0.3333333333333333, \"#9c179e\"], [0.4444444444444444, \"#bd3786\"], [0.5555555555555556, \"#d8576b\"], [0.6666666666666666, \"#ed7953\"], [0.7777777777777778, \"#fb9f3a\"], [0.8888888888888888, \"#fdca26\"], [1.0, \"#f0f921\"]], \"type\": \"heatmap\"}], \"heatmapgl\": [{\"colorbar\": {\"outlinewidth\": 0, \"ticks\": \"\"}, \"colorscale\": [[0.0, \"#0d0887\"], [0.1111111111111111, \"#46039f\"], [0.2222222222222222, \"#7201a8\"], [0.3333333333333333, \"#9c179e\"], [0.4444444444444444, \"#bd3786\"], [0.5555555555555556, \"#d8576b\"], [0.6666666666666666, \"#ed7953\"], [0.7777777777777778, \"#fb9f3a\"], [0.8888888888888888, \"#fdca26\"], [1.0, \"#f0f921\"]], \"type\": \"heatmapgl\"}], \"histogram\": [{\"marker\": {\"colorbar\": {\"outlinewidth\": 0, \"ticks\": \"\"}}, \"type\": \"histogram\"}], \"histogram2d\": [{\"colorbar\": {\"outlinewidth\": 0, \"ticks\": \"\"}, \"colorscale\": [[0.0, \"#0d0887\"], [0.1111111111111111, \"#46039f\"], [0.2222222222222222, \"#7201a8\"], [0.3333333333333333, \"#9c179e\"], [0.4444444444444444, \"#bd3786\"], [0.5555555555555556, \"#d8576b\"], [0.6666666666666666, \"#ed7953\"], [0.7777777777777778, \"#fb9f3a\"], [0.8888888888888888, \"#fdca26\"], [1.0, \"#f0f921\"]], \"type\": \"histogram2d\"}], \"histogram2dcontour\": [{\"colorbar\": {\"outlinewidth\": 0, \"ticks\": \"\"}, \"colorscale\": [[0.0, \"#0d0887\"], [0.1111111111111111, \"#46039f\"], [0.2222222222222222, \"#7201a8\"], [0.3333333333333333, \"#9c179e\"], [0.4444444444444444, \"#bd3786\"], [0.5555555555555556, \"#d8576b\"], [0.6666666666666666, \"#ed7953\"], [0.7777777777777778, \"#fb9f3a\"], [0.8888888888888888, \"#fdca26\"], [1.0, \"#f0f921\"]], \"type\": \"histogram2dcontour\"}], \"mesh3d\": [{\"colorbar\": {\"outlinewidth\": 0, \"ticks\": \"\"}, \"type\": \"mesh3d\"}], \"parcoords\": [{\"line\": {\"colorbar\": {\"outlinewidth\": 0, \"ticks\": \"\"}}, \"type\": \"parcoords\"}], \"scatter\": [{\"marker\": {\"colorbar\": {\"outlinewidth\": 0, \"ticks\": \"\"}}, \"type\": \"scatter\"}], \"scatter3d\": [{\"line\": {\"colorbar\": {\"outlinewidth\": 0, \"ticks\": \"\"}}, \"marker\": {\"colorbar\": {\"outlinewidth\": 0, \"ticks\": \"\"}}, \"type\": \"scatter3d\"}], \"scattercarpet\": [{\"marker\": {\"colorbar\": {\"outlinewidth\": 0, \"ticks\": \"\"}}, \"type\": \"scattercarpet\"}], \"scattergeo\": [{\"marker\": {\"colorbar\": {\"outlinewidth\": 0, \"ticks\": \"\"}}, \"type\": \"scattergeo\"}], \"scattergl\": [{\"marker\": {\"colorbar\": {\"outlinewidth\": 0, \"ticks\": \"\"}}, \"type\": \"scattergl\"}], \"scattermapbox\": [{\"marker\": {\"colorbar\": {\"outlinewidth\": 0, \"ticks\": \"\"}}, \"type\": \"scattermapbox\"}], \"scatterpolar\": [{\"marker\": {\"colorbar\": {\"outlinewidth\": 0, \"ticks\": \"\"}}, \"type\": \"scatterpolar\"}], \"scatterpolargl\": [{\"marker\": {\"colorbar\": {\"outlinewidth\": 0, \"ticks\": \"\"}}, \"type\": \"scatterpolargl\"}], \"scatterternary\": [{\"marker\": {\"colorbar\": {\"outlinewidth\": 0, \"ticks\": \"\"}}, \"type\": \"scatterternary\"}], \"surface\": [{\"colorbar\": {\"outlinewidth\": 0, \"ticks\": \"\"}, \"colorscale\": [[0.0, \"#0d0887\"], [0.1111111111111111, \"#46039f\"], [0.2222222222222222, \"#7201a8\"], [0.3333333333333333, \"#9c179e\"], [0.4444444444444444, \"#bd3786\"], [0.5555555555555556, \"#d8576b\"], [0.6666666666666666, \"#ed7953\"], [0.7777777777777778, \"#fb9f3a\"], [0.8888888888888888, \"#fdca26\"], [1.0, \"#f0f921\"]], \"type\": \"surface\"}], \"table\": [{\"cells\": {\"fill\": {\"color\": \"#EBF0F8\"}, \"line\": {\"color\": \"white\"}}, \"header\": {\"fill\": {\"color\": \"#C8D4E3\"}, \"line\": {\"color\": \"white\"}}, \"type\": \"table\"}]}, \"layout\": {\"annotationdefaults\": {\"arrowcolor\": \"#2a3f5f\", \"arrowhead\": 0, \"arrowwidth\": 1}, \"colorscale\": {\"diverging\": [[0, \"#8e0152\"], [0.1, \"#c51b7d\"], [0.2, \"#de77ae\"], [0.3, \"#f1b6da\"], [0.4, \"#fde0ef\"], [0.5, \"#f7f7f7\"], [0.6, \"#e6f5d0\"], [0.7, \"#b8e186\"], [0.8, \"#7fbc41\"], [0.9, \"#4d9221\"], [1, \"#276419\"]], \"sequential\": [[0.0, \"#0d0887\"], [0.1111111111111111, \"#46039f\"], [0.2222222222222222, \"#7201a8\"], [0.3333333333333333, \"#9c179e\"], [0.4444444444444444, \"#bd3786\"], [0.5555555555555556, \"#d8576b\"], [0.6666666666666666, \"#ed7953\"], [0.7777777777777778, \"#fb9f3a\"], [0.8888888888888888, \"#fdca26\"], [1.0, \"#f0f921\"]], \"sequentialminus\": [[0.0, \"#0d0887\"], [0.1111111111111111, \"#46039f\"], [0.2222222222222222, \"#7201a8\"], [0.3333333333333333, \"#9c179e\"], [0.4444444444444444, \"#bd3786\"], [0.5555555555555556, \"#d8576b\"], [0.6666666666666666, \"#ed7953\"], [0.7777777777777778, \"#fb9f3a\"], [0.8888888888888888, \"#fdca26\"], [1.0, \"#f0f921\"]]}, \"colorway\": [\"#636efa\", \"#EF553B\", \"#00cc96\", \"#ab63fa\", \"#FFA15A\", \"#19d3f3\", \"#FF6692\", \"#B6E880\", \"#FF97FF\", \"#FECB52\"], \"font\": {\"color\": \"#2a3f5f\"}, \"geo\": {\"bgcolor\": \"white\", \"lakecolor\": \"white\", \"landcolor\": \"#E5ECF6\", \"showlakes\": true, \"showland\": true, \"subunitcolor\": \"white\"}, \"hoverlabel\": {\"align\": \"left\"}, \"hovermode\": \"closest\", \"mapbox\": {\"style\": \"light\"}, \"paper_bgcolor\": \"white\", \"plot_bgcolor\": \"#E5ECF6\", \"polar\": {\"angularaxis\": {\"gridcolor\": \"white\", \"linecolor\": \"white\", \"ticks\": \"\"}, \"bgcolor\": \"#E5ECF6\", \"radialaxis\": {\"gridcolor\": \"white\", \"linecolor\": \"white\", \"ticks\": \"\"}}, \"scene\": {\"xaxis\": {\"backgroundcolor\": \"#E5ECF6\", \"gridcolor\": \"white\", \"gridwidth\": 2, \"linecolor\": \"white\", \"showbackground\": true, \"ticks\": \"\", \"zerolinecolor\": \"white\"}, \"yaxis\": {\"backgroundcolor\": \"#E5ECF6\", \"gridcolor\": \"white\", \"gridwidth\": 2, \"linecolor\": \"white\", \"showbackground\": true, \"ticks\": \"\", \"zerolinecolor\": \"white\"}, \"zaxis\": {\"backgroundcolor\": \"#E5ECF6\", \"gridcolor\": \"white\", \"gridwidth\": 2, \"linecolor\": \"white\", \"showbackground\": true, \"ticks\": \"\", \"zerolinecolor\": \"white\"}}, \"shapedefaults\": {\"line\": {\"color\": \"#2a3f5f\"}}, \"ternary\": {\"aaxis\": {\"gridcolor\": \"white\", \"linecolor\": \"white\", \"ticks\": \"\"}, \"baxis\": {\"gridcolor\": \"white\", \"linecolor\": \"white\", \"ticks\": \"\"}, \"bgcolor\": \"#E5ECF6\", \"caxis\": {\"gridcolor\": \"white\", \"linecolor\": \"white\", \"ticks\": \"\"}}, \"title\": {\"x\": 0.05}, \"xaxis\": {\"automargin\": true, \"gridcolor\": \"white\", \"linecolor\": \"white\", \"ticks\": \"\", \"zerolinecolor\": \"white\", \"zerolinewidth\": 2}, \"yaxis\": {\"automargin\": true, \"gridcolor\": \"white\", \"linecolor\": \"white\", \"ticks\": \"\", \"zerolinecolor\": \"white\", \"zerolinewidth\": 2}}}, \"xaxis\": {\"anchor\": \"y\", \"domain\": [0.0, 0.98], \"title\": {\"text\": \"timeonsite\"}}, \"yaxis\": {\"anchor\": \"x\", \"domain\": [0.0, 1.0], \"title\": {\"text\": \"hits\"}}},\n",
              "                        {\"responsive\": true}\n",
              "                    ).then(function(){\n",
              "                            \n",
              "var gd = document.getElementById('495c6cd4-7d0d-4bee-93ea-c9ee27c4f529');\n",
              "var x = new MutationObserver(function (mutations, observer) {{\n",
              "        var display = window.getComputedStyle(gd).display;\n",
              "        if (!display || display === 'none') {{\n",
              "            console.log([gd, 'removed!']);\n",
              "            Plotly.purge(gd);\n",
              "            observer.disconnect();\n",
              "        }}\n",
              "}});\n",
              "\n",
              "// Listen for the removal of the full notebook cells\n",
              "var notebookContainer = gd.closest('#notebook-container');\n",
              "if (notebookContainer) {{\n",
              "    x.observe(notebookContainer, {childList: true});\n",
              "}}\n",
              "\n",
              "// Listen for the clearing of the current output cell\n",
              "var outputEl = gd.closest('.output');\n",
              "if (outputEl) {{\n",
              "    x.observe(outputEl, {childList: true});\n",
              "}}\n",
              "\n",
              "                        })\n",
              "                };\n",
              "                \n",
              "            </script>\n",
              "        </div>\n",
              "</body>\n",
              "</html>"
            ]
          },
          "metadata": {
            "tags": []
          }
        }
      ]
    },
    {
      "cell_type": "markdown",
      "metadata": {
        "id": "mCHmKV23N0FA",
        "colab_type": "text"
      },
      "source": [
        "> It is seen that time spent on the platform and the total number of hits share the same trend. When the total time spent on the platform increases the number of hits increases but the number of the hits increase slower compared to the total time spent on the site.\n",
        "\n"
      ]
    },
    {
      "cell_type": "code",
      "metadata": {
        "id": "kyQ4hzxRRxG8",
        "colab_type": "code",
        "cellView": "form",
        "outputId": "4870f38e-636f-480d-f8a5-e70b7ecaa81c",
        "colab": {
          "base_uri": "https://localhost:8080/",
          "height": 418
        }
      },
      "source": [
        "#@title  Correlation of Time Spent on the Platform and Total Number of Hits in United States\n",
        "\n",
        "data_q10_us_corr=data_q10_us[[\"hits\", \"timeonsite\"]]\n",
        "CheckingCorrelations(data_q10_us_corr,'BuPu')"
      ],
      "execution_count": 0,
      "outputs": [
        {
          "output_type": "stream",
          "text": [
            "                hits  timeonsite\n",
            "hits        1.000000    0.674747\n",
            "timeonsite  0.674747    1.000000\n"
          ],
          "name": "stdout"
        },
        {
          "output_type": "display_data",
          "data": {
            "image/png": "[encoded data removed]",
            "text/plain": [
              "<Figure size 576x432 with 2 Axes>"
            ]
          },
          "metadata": {
            "tags": []
          }
        }
      ]
    },
    {
      "cell_type": "markdown",
      "metadata": {
        "id": "NaB5mwBhxSRd",
        "colab_type": "text"
      },
      "source": [
        "> It is seen that there is a positive correlation between the time spent on the platform and the total number of hits, for each visit in the United States. The more user exists on the platform their interaction with the platform increases user interaction.  For that reason, it is better to check the correlation between these features."
      ]
    },
    {
      "cell_type": "markdown",
      "metadata": {
        "id": "Mq_I_XKFShzO",
        "colab_type": "text"
      },
      "source": [
        "**India**\n",
        "\n",
        "\n",
        "---\n",
        "\n",
        "\n",
        "\n"
      ]
    },
    {
      "cell_type": "code",
      "metadata": {
        "id": "4RbMo8yWvSzL",
        "colab_type": "code",
        "cellView": "form",
        "outputId": "903da8ac-15b1-4f50-c78c-e7c7f465bfa1",
        "colab": {
          "base_uri": "https://localhost:8080/",
          "height": 297
        }
      },
      "source": [
        "#@title About the Data\n",
        "\n",
        "path = \"/content/drive/My Drive/dh_data/q10_India.csv\"\n",
        "data_q10_india = pd.read_csv(path)\n",
        "data_q10_india.describe()"
      ],
      "execution_count": 0,
      "outputs": [
        {
          "output_type": "execute_result",
          "data": {
            "text/html": [
              "<div>\n",
              "<style scoped>\n",
              "    .dataframe tbody tr th:only-of-type {\n",
              "        vertical-align: middle;\n",
              "    }\n",
              "\n",
              "    .dataframe tbody tr th {\n",
              "        vertical-align: top;\n",
              "    }\n",
              "\n",
              "    .dataframe thead th {\n",
              "        text-align: right;\n",
              "    }\n",
              "</style>\n",
              "<table border=\"1\" class=\"dataframe\">\n",
              "  <thead>\n",
              "    <tr style=\"text-align: right;\">\n",
              "      <th></th>\n",
              "      <th>hits</th>\n",
              "      <th>timeonsite</th>\n",
              "      <th>visitid</th>\n",
              "    </tr>\n",
              "  </thead>\n",
              "  <tbody>\n",
              "    <tr>\n",
              "      <th>count</th>\n",
              "      <td>63.000000</td>\n",
              "      <td>63.000000</td>\n",
              "      <td>6.300000e+01</td>\n",
              "    </tr>\n",
              "    <tr>\n",
              "      <th>mean</th>\n",
              "      <td>6.174603</td>\n",
              "      <td>260.476190</td>\n",
              "      <td>1.501603e+09</td>\n",
              "    </tr>\n",
              "    <tr>\n",
              "      <th>std</th>\n",
              "      <td>5.490578</td>\n",
              "      <td>685.380701</td>\n",
              "      <td>2.404722e+04</td>\n",
              "    </tr>\n",
              "    <tr>\n",
              "      <th>min</th>\n",
              "      <td>2.000000</td>\n",
              "      <td>6.000000</td>\n",
              "      <td>1.501571e+09</td>\n",
              "    </tr>\n",
              "    <tr>\n",
              "      <th>25%</th>\n",
              "      <td>2.000000</td>\n",
              "      <td>40.500000</td>\n",
              "      <td>1.501583e+09</td>\n",
              "    </tr>\n",
              "    <tr>\n",
              "      <th>50%</th>\n",
              "      <td>4.000000</td>\n",
              "      <td>93.000000</td>\n",
              "      <td>1.501600e+09</td>\n",
              "    </tr>\n",
              "    <tr>\n",
              "      <th>75%</th>\n",
              "      <td>8.000000</td>\n",
              "      <td>265.000000</td>\n",
              "      <td>1.501615e+09</td>\n",
              "    </tr>\n",
              "    <tr>\n",
              "      <th>max</th>\n",
              "      <td>26.000000</td>\n",
              "      <td>5362.000000</td>\n",
              "      <td>1.501656e+09</td>\n",
              "    </tr>\n",
              "  </tbody>\n",
              "</table>\n",
              "</div>"
            ],
            "text/plain": [
              "            hits   timeonsite       visitid\n",
              "count  63.000000    63.000000  6.300000e+01\n",
              "mean    6.174603   260.476190  1.501603e+09\n",
              "std     5.490578   685.380701  2.404722e+04\n",
              "min     2.000000     6.000000  1.501571e+09\n",
              "25%     2.000000    40.500000  1.501583e+09\n",
              "50%     4.000000    93.000000  1.501600e+09\n",
              "75%     8.000000   265.000000  1.501615e+09\n",
              "max    26.000000  5362.000000  1.501656e+09"
            ]
          },
          "metadata": {
            "tags": []
          },
          "execution_count": 21
        }
      ]
    },
    {
      "cell_type": "code",
      "metadata": {
        "id": "PsHxPL36vZmt",
        "colab_type": "code",
        "cellView": "form",
        "outputId": "38295c2f-1264-45fa-c4b1-c0f63893f2e3",
        "colab": {
          "base_uri": "https://localhost:8080/",
          "height": 617
        }
      },
      "source": [
        "#@title Time spent on the platform vs Total Number of Hits in India\n",
        "\n",
        "fig = px.scatter(data_q10_india, x=\"timeonsite\", y=\"hits\")\n",
        "fig.update_traces(marker=dict(size=8,color='rgba(17, 65, 49, .9)'))\n",
        "fig.show()"
      ],
      "execution_count": 0,
      "outputs": [
        {
          "output_type": "display_data",
          "data": {
            "text/html": [
              "<html>\n",
              "<head><meta charset=\"utf-8\" /></head>\n",
              "<body>\n",
              "    <div>\n",
              "            <script src=\"https://cdnjs.cloudflare.com/ajax/libs/mathjax/2.7.5/MathJax.js?config=TeX-AMS-MML_SVG\"></script><script type=\"text/javascript\">if (window.MathJax) {MathJax.Hub.Config({SVG: {font: \"STIX-Web\"}});}</script>\n",
              "                <script type=\"text/javascript\">window.PlotlyConfig = {MathJaxConfig: 'local'};</script>\n",
              "        <script src=\"https://cdn.plot.ly/plotly-latest.min.js\"></script>    \n",
              "            <div id=\"1f42088e-96db-4982-87c2-9275de5402c6\" class=\"plotly-graph-div\" style=\"height:600px; width:100%;\"></div>\n",
              "            <script type=\"text/javascript\">\n",
              "                \n",
              "                    window.PLOTLYENV=window.PLOTLYENV || {};\n",
              "                    \n",
              "                if (document.getElementById(\"1f42088e-96db-4982-87c2-9275de5402c6\")) {\n",
              "                    Plotly.newPlot(\n",
              "                        '1f42088e-96db-4982-87c2-9275de5402c6',\n",
              "                        [{\"hoverlabel\": {\"namelength\": 0}, \"hovertemplate\": \"timeonsite=%{x}<br>hits=%{y}\", \"legendgroup\": \"\", \"marker\": {\"color\": \"rgba(17, 65, 49, .9)\", \"size\": 8, \"symbol\": \"circle\"}, \"mode\": \"markers\", \"name\": \"\", \"showlegend\": false, \"type\": \"scatter\", \"x\": [21, 22, 30, 353, 7, 41, 177, 6, 25, 9, 23, 42, 55, 137, 70, 255, 132, 275, 128, 34, 44, 6, 8, 43, 77, 42, 31, 93, 22, 94, 223, 85, 29, 179, 354, 597, 669, 209, 420, 66, 979, 86, 287, 119, 109, 5362, 190, 121, 688, 189, 484, 334, 463, 312, 553, 42, 17, 44, 126, 40, 43, 70, 619], \"xaxis\": \"x\", \"y\": [2, 2, 2, 2, 2, 2, 2, 2, 2, 2, 2, 2, 2, 2, 2, 3, 3, 3, 3, 3, 3, 3, 3, 3, 4, 4, 4, 4, 4, 4, 4, 4, 5, 5, 6, 6, 6, 6, 6, 7, 8, 8, 8, 9, 9, 10, 12, 12, 12, 16, 17, 20, 21, 22, 26, 2, 2, 4, 5, 5, 6, 9, 10], \"yaxis\": \"y\"}],\n",
              "                        {\"height\": 600, \"legend\": {\"tracegroupgap\": 0}, \"margin\": {\"t\": 60}, \"template\": {\"data\": {\"bar\": [{\"error_x\": {\"color\": \"#2a3f5f\"}, \"error_y\": {\"color\": \"#2a3f5f\"}, \"marker\": {\"line\": {\"color\": \"#E5ECF6\", \"width\": 0.5}}, \"type\": \"bar\"}], \"barpolar\": [{\"marker\": {\"line\": {\"color\": \"#E5ECF6\", \"width\": 0.5}}, \"type\": \"barpolar\"}], \"carpet\": [{\"aaxis\": {\"endlinecolor\": \"#2a3f5f\", \"gridcolor\": \"white\", \"linecolor\": \"white\", \"minorgridcolor\": \"white\", \"startlinecolor\": \"#2a3f5f\"}, \"baxis\": {\"endlinecolor\": \"#2a3f5f\", \"gridcolor\": \"white\", \"linecolor\": \"white\", \"minorgridcolor\": \"white\", \"startlinecolor\": \"#2a3f5f\"}, \"type\": \"carpet\"}], \"choropleth\": [{\"colorbar\": {\"outlinewidth\": 0, \"ticks\": \"\"}, \"type\": \"choropleth\"}], \"contour\": [{\"colorbar\": {\"outlinewidth\": 0, \"ticks\": \"\"}, \"colorscale\": [[0.0, \"#0d0887\"], [0.1111111111111111, \"#46039f\"], [0.2222222222222222, \"#7201a8\"], [0.3333333333333333, \"#9c179e\"], [0.4444444444444444, \"#bd3786\"], [0.5555555555555556, \"#d8576b\"], [0.6666666666666666, \"#ed7953\"], [0.7777777777777778, \"#fb9f3a\"], [0.8888888888888888, \"#fdca26\"], [1.0, \"#f0f921\"]], \"type\": \"contour\"}], \"contourcarpet\": [{\"colorbar\": {\"outlinewidth\": 0, \"ticks\": \"\"}, \"type\": \"contourcarpet\"}], \"heatmap\": [{\"colorbar\": {\"outlinewidth\": 0, \"ticks\": \"\"}, \"colorscale\": [[0.0, \"#0d0887\"], [0.1111111111111111, \"#46039f\"], [0.2222222222222222, \"#7201a8\"], [0.3333333333333333, \"#9c179e\"], [0.4444444444444444, \"#bd3786\"], [0.5555555555555556, \"#d8576b\"], [0.6666666666666666, \"#ed7953\"], [0.7777777777777778, \"#fb9f3a\"], [0.8888888888888888, \"#fdca26\"], [1.0, \"#f0f921\"]], \"type\": \"heatmap\"}], \"heatmapgl\": [{\"colorbar\": {\"outlinewidth\": 0, \"ticks\": \"\"}, \"colorscale\": [[0.0, \"#0d0887\"], [0.1111111111111111, \"#46039f\"], [0.2222222222222222, \"#7201a8\"], [0.3333333333333333, \"#9c179e\"], [0.4444444444444444, \"#bd3786\"], [0.5555555555555556, \"#d8576b\"], [0.6666666666666666, \"#ed7953\"], [0.7777777777777778, \"#fb9f3a\"], [0.8888888888888888, \"#fdca26\"], [1.0, \"#f0f921\"]], \"type\": \"heatmapgl\"}], \"histogram\": [{\"marker\": {\"colorbar\": {\"outlinewidth\": 0, \"ticks\": \"\"}}, \"type\": \"histogram\"}], \"histogram2d\": [{\"colorbar\": {\"outlinewidth\": 0, \"ticks\": \"\"}, \"colorscale\": [[0.0, \"#0d0887\"], [0.1111111111111111, \"#46039f\"], [0.2222222222222222, \"#7201a8\"], [0.3333333333333333, \"#9c179e\"], [0.4444444444444444, \"#bd3786\"], [0.5555555555555556, \"#d8576b\"], [0.6666666666666666, \"#ed7953\"], [0.7777777777777778, \"#fb9f3a\"], [0.8888888888888888, \"#fdca26\"], [1.0, \"#f0f921\"]], \"type\": \"histogram2d\"}], \"histogram2dcontour\": [{\"colorbar\": {\"outlinewidth\": 0, \"ticks\": \"\"}, \"colorscale\": [[0.0, \"#0d0887\"], [0.1111111111111111, \"#46039f\"], [0.2222222222222222, \"#7201a8\"], [0.3333333333333333, \"#9c179e\"], [0.4444444444444444, \"#bd3786\"], [0.5555555555555556, \"#d8576b\"], [0.6666666666666666, \"#ed7953\"], [0.7777777777777778, \"#fb9f3a\"], [0.8888888888888888, \"#fdca26\"], [1.0, \"#f0f921\"]], \"type\": \"histogram2dcontour\"}], \"mesh3d\": [{\"colorbar\": {\"outlinewidth\": 0, \"ticks\": \"\"}, \"type\": \"mesh3d\"}], \"parcoords\": [{\"line\": {\"colorbar\": {\"outlinewidth\": 0, \"ticks\": \"\"}}, \"type\": \"parcoords\"}], \"scatter\": [{\"marker\": {\"colorbar\": {\"outlinewidth\": 0, \"ticks\": \"\"}}, \"type\": \"scatter\"}], \"scatter3d\": [{\"line\": {\"colorbar\": {\"outlinewidth\": 0, \"ticks\": \"\"}}, \"marker\": {\"colorbar\": {\"outlinewidth\": 0, \"ticks\": \"\"}}, \"type\": \"scatter3d\"}], \"scattercarpet\": [{\"marker\": {\"colorbar\": {\"outlinewidth\": 0, \"ticks\": \"\"}}, \"type\": \"scattercarpet\"}], \"scattergeo\": [{\"marker\": {\"colorbar\": {\"outlinewidth\": 0, \"ticks\": \"\"}}, \"type\": \"scattergeo\"}], \"scattergl\": [{\"marker\": {\"colorbar\": {\"outlinewidth\": 0, \"ticks\": \"\"}}, \"type\": \"scattergl\"}], \"scattermapbox\": [{\"marker\": {\"colorbar\": {\"outlinewidth\": 0, \"ticks\": \"\"}}, \"type\": \"scattermapbox\"}], \"scatterpolar\": [{\"marker\": {\"colorbar\": {\"outlinewidth\": 0, \"ticks\": \"\"}}, \"type\": \"scatterpolar\"}], \"scatterpolargl\": [{\"marker\": {\"colorbar\": {\"outlinewidth\": 0, \"ticks\": \"\"}}, \"type\": \"scatterpolargl\"}], \"scatterternary\": [{\"marker\": {\"colorbar\": {\"outlinewidth\": 0, \"ticks\": \"\"}}, \"type\": \"scatterternary\"}], \"surface\": [{\"colorbar\": {\"outlinewidth\": 0, \"ticks\": \"\"}, \"colorscale\": [[0.0, \"#0d0887\"], [0.1111111111111111, \"#46039f\"], [0.2222222222222222, \"#7201a8\"], [0.3333333333333333, \"#9c179e\"], [0.4444444444444444, \"#bd3786\"], [0.5555555555555556, \"#d8576b\"], [0.6666666666666666, \"#ed7953\"], [0.7777777777777778, \"#fb9f3a\"], [0.8888888888888888, \"#fdca26\"], [1.0, \"#f0f921\"]], \"type\": \"surface\"}], \"table\": [{\"cells\": {\"fill\": {\"color\": \"#EBF0F8\"}, \"line\": {\"color\": \"white\"}}, \"header\": {\"fill\": {\"color\": \"#C8D4E3\"}, \"line\": {\"color\": \"white\"}}, \"type\": \"table\"}]}, \"layout\": {\"annotationdefaults\": {\"arrowcolor\": \"#2a3f5f\", \"arrowhead\": 0, \"arrowwidth\": 1}, \"colorscale\": {\"diverging\": [[0, \"#8e0152\"], [0.1, \"#c51b7d\"], [0.2, \"#de77ae\"], [0.3, \"#f1b6da\"], [0.4, \"#fde0ef\"], [0.5, \"#f7f7f7\"], [0.6, \"#e6f5d0\"], [0.7, \"#b8e186\"], [0.8, \"#7fbc41\"], [0.9, \"#4d9221\"], [1, \"#276419\"]], \"sequential\": [[0.0, \"#0d0887\"], [0.1111111111111111, \"#46039f\"], [0.2222222222222222, \"#7201a8\"], [0.3333333333333333, \"#9c179e\"], [0.4444444444444444, \"#bd3786\"], [0.5555555555555556, \"#d8576b\"], [0.6666666666666666, \"#ed7953\"], [0.7777777777777778, \"#fb9f3a\"], [0.8888888888888888, \"#fdca26\"], [1.0, \"#f0f921\"]], \"sequentialminus\": [[0.0, \"#0d0887\"], [0.1111111111111111, \"#46039f\"], [0.2222222222222222, \"#7201a8\"], [0.3333333333333333, \"#9c179e\"], [0.4444444444444444, \"#bd3786\"], [0.5555555555555556, \"#d8576b\"], [0.6666666666666666, \"#ed7953\"], [0.7777777777777778, \"#fb9f3a\"], [0.8888888888888888, \"#fdca26\"], [1.0, \"#f0f921\"]]}, \"colorway\": [\"#636efa\", \"#EF553B\", \"#00cc96\", \"#ab63fa\", \"#FFA15A\", \"#19d3f3\", \"#FF6692\", \"#B6E880\", \"#FF97FF\", \"#FECB52\"], \"font\": {\"color\": \"#2a3f5f\"}, \"geo\": {\"bgcolor\": \"white\", \"lakecolor\": \"white\", \"landcolor\": \"#E5ECF6\", \"showlakes\": true, \"showland\": true, \"subunitcolor\": \"white\"}, \"hoverlabel\": {\"align\": \"left\"}, \"hovermode\": \"closest\", \"mapbox\": {\"style\": \"light\"}, \"paper_bgcolor\": \"white\", \"plot_bgcolor\": \"#E5ECF6\", \"polar\": {\"angularaxis\": {\"gridcolor\": \"white\", \"linecolor\": \"white\", \"ticks\": \"\"}, \"bgcolor\": \"#E5ECF6\", \"radialaxis\": {\"gridcolor\": \"white\", \"linecolor\": \"white\", \"ticks\": \"\"}}, \"scene\": {\"xaxis\": {\"backgroundcolor\": \"#E5ECF6\", \"gridcolor\": \"white\", \"gridwidth\": 2, \"linecolor\": \"white\", \"showbackground\": true, \"ticks\": \"\", \"zerolinecolor\": \"white\"}, \"yaxis\": {\"backgroundcolor\": \"#E5ECF6\", \"gridcolor\": \"white\", \"gridwidth\": 2, \"linecolor\": \"white\", \"showbackground\": true, \"ticks\": \"\", \"zerolinecolor\": \"white\"}, \"zaxis\": {\"backgroundcolor\": \"#E5ECF6\", \"gridcolor\": \"white\", \"gridwidth\": 2, \"linecolor\": \"white\", \"showbackground\": true, \"ticks\": \"\", \"zerolinecolor\": \"white\"}}, \"shapedefaults\": {\"line\": {\"color\": \"#2a3f5f\"}}, \"ternary\": {\"aaxis\": {\"gridcolor\": \"white\", \"linecolor\": \"white\", \"ticks\": \"\"}, \"baxis\": {\"gridcolor\": \"white\", \"linecolor\": \"white\", \"ticks\": \"\"}, \"bgcolor\": \"#E5ECF6\", \"caxis\": {\"gridcolor\": \"white\", \"linecolor\": \"white\", \"ticks\": \"\"}}, \"title\": {\"x\": 0.05}, \"xaxis\": {\"automargin\": true, \"gridcolor\": \"white\", \"linecolor\": \"white\", \"ticks\": \"\", \"zerolinecolor\": \"white\", \"zerolinewidth\": 2}, \"yaxis\": {\"automargin\": true, \"gridcolor\": \"white\", \"linecolor\": \"white\", \"ticks\": \"\", \"zerolinecolor\": \"white\", \"zerolinewidth\": 2}}}, \"xaxis\": {\"anchor\": \"y\", \"domain\": [0.0, 0.98], \"title\": {\"text\": \"timeonsite\"}}, \"yaxis\": {\"anchor\": \"x\", \"domain\": [0.0, 1.0], \"title\": {\"text\": \"hits\"}}},\n",
              "                        {\"responsive\": true}\n",
              "                    ).then(function(){\n",
              "                            \n",
              "var gd = document.getElementById('1f42088e-96db-4982-87c2-9275de5402c6');\n",
              "var x = new MutationObserver(function (mutations, observer) {{\n",
              "        var display = window.getComputedStyle(gd).display;\n",
              "        if (!display || display === 'none') {{\n",
              "            console.log([gd, 'removed!']);\n",
              "            Plotly.purge(gd);\n",
              "            observer.disconnect();\n",
              "        }}\n",
              "}});\n",
              "\n",
              "// Listen for the removal of the full notebook cells\n",
              "var notebookContainer = gd.closest('#notebook-container');\n",
              "if (notebookContainer) {{\n",
              "    x.observe(notebookContainer, {childList: true});\n",
              "}}\n",
              "\n",
              "// Listen for the clearing of the current output cell\n",
              "var outputEl = gd.closest('.output');\n",
              "if (outputEl) {{\n",
              "    x.observe(outputEl, {childList: true});\n",
              "}}\n",
              "\n",
              "                        })\n",
              "                };\n",
              "                \n",
              "            </script>\n",
              "        </div>\n",
              "</body>\n",
              "</html>"
            ]
          },
          "metadata": {
            "tags": []
          }
        }
      ]
    },
    {
      "cell_type": "markdown",
      "metadata": {
        "id": "ebyzyyG0PdzB",
        "colab_type": "text"
      },
      "source": [
        ">  The graph above indicates that there is not a certain relation between time spent on the platform and the total number of hits."
      ]
    },
    {
      "cell_type": "code",
      "metadata": {
        "id": "7PZbL5A9SY2Y",
        "colab_type": "code",
        "cellView": "form",
        "outputId": "13712d40-84cf-41cb-e7b4-94366a72e312",
        "colab": {
          "base_uri": "https://localhost:8080/",
          "height": 418
        }
      },
      "source": [
        "#@title  Correlation of Time spent on the platform and Total Number of Hits in India\n",
        "\n",
        "data_q10_india_corr=data_q10_india[[\"hits\", \"timeonsite\"]]\n",
        "CheckingCorrelations(data_q10_india_corr,'Greens')"
      ],
      "execution_count": 0,
      "outputs": [
        {
          "output_type": "stream",
          "text": [
            "                hits  timeonsite\n",
            "hits        1.000000    0.243126\n",
            "timeonsite  0.243126    1.000000\n"
          ],
          "name": "stdout"
        },
        {
          "output_type": "display_data",
          "data": {
            "image/png": "[encoded data removed]",
            "text/plain": [
              "<Figure size 576x432 with 2 Axes>"
            ]
          },
          "metadata": {
            "tags": []
          }
        }
      ]
    },
    {
      "cell_type": "markdown",
      "metadata": {
        "id": "3mlUkaScxgxC",
        "colab_type": "text"
      },
      "source": [
        ">It is seen that there is  a low correlation between the time spent on the platform and total number of hits, for each visit in India.\n",
        "This is in contrast to the behaviour of visitors' interaction according to time spent on the platfom in the United States. Visitors from India."
      ]
    },
    {
      "cell_type": "code",
      "metadata": {
        "id": "_8-SKY9ATrw6",
        "colab_type": "code",
        "cellView": "form",
        "outputId": "079c5822-81cc-48df-9c01-96c7738679fd",
        "colab": {
          "base_uri": "https://localhost:8080/",
          "height": 51
        }
      },
      "source": [
        "#@title #Independent T-Test for the Features\n",
        "\n",
        "hits_india_array=data_q10_india[\"hits\"].values\n",
        "hits_us_array=data_q10_us[\"hits\"].values\n",
        "\n",
        "time_india_array=data_q10_india[\"timeonsite\"].values\n",
        "time_us_array=data_q10_us[\"timeonsite\"].values\n",
        "\n",
        "print(\"Independent t test for hits\", stats.ttest_ind(hits_india_array, hits_us_array, equal_var = False))\n",
        "print(\"Independent t test for timeonsite\", stats.ttest_ind(time_india_array, time_us_array, equal_var = False))"
      ],
      "execution_count": 0,
      "outputs": [
        {
          "output_type": "stream",
          "text": [
            "Independent t test for hits Ttest_indResult(statistic=-4.927242261683068, pvalue=2.0864422117164175e-06)\n",
            "Independent t test for timeonsite Ttest_indResult(statistic=-1.2110656826126858, pvalue=0.22989444434321057)\n"
          ],
          "name": "stdout"
        }
      ]
    },
    {
      "cell_type": "markdown",
      "metadata": {
        "id": "bnu6T9jVVgZi",
        "colab_type": "text"
      },
      "source": [
        "> We can conclude that there is a significant difference between means of the hits in the countries. (2.09e-06 < 0.05)  \n",
        "Additionally, there is no difference between means of the time on the site in the countries. (0.23 > 0.05)\n",
        "\n",
        "> To review, visitors in India spend more time on the pages than visitors from the United States. Perhaps this situation is related to the content of the pages for visitors from India. The internet may be slow in India. There may be other hypotheses to be tested."
      ]
    },
    {
      "cell_type": "markdown",
      "metadata": {
        "id": "WDI68AcPE11H",
        "colab_type": "text"
      },
      "source": [
        "**Checking Page Loading Time for the Countries**\n",
        "\n",
        "| Country  | Average Page Load Time in millisecond |\n",
        "|:--:|:---:|\n",
        "|   United States|  \t9532 |\n",
        "| India\t|  3632.7    |\n",
        "\n",
        "\n"
      ]
    },
    {
      "cell_type": "markdown",
      "metadata": {
        "id": "hloDP79ZGpca",
        "colab_type": "text"
      },
      "source": [
        "l think it would be good to compare the page load time in countries. Page load time is not longer in India than the United States. There might be another reasons of the previous finding. \n"
      ]
    },
    {
      "cell_type": "markdown",
      "metadata": {
        "id": "Xgh8oa7pR0DA",
        "colab_type": "text"
      },
      "source": [
        "# Opinions about the data structure\n",
        " \n",
        "Firstly, It is good to understand how BigQuery works.(A semi-structured data format and distributed file system). Examining structs/ records, unnesting arrays were new for me. People who are new on BigQuery Structs should be careful while analyzing at first. After being familiar with array types, it will not be a problem to work on the data. In this data structure, we do not have to deal with so many tables and joins. They are all in one which makes computation faster. \n",
        "\n",
        "This data type is at session-level. Individual page views are nested. When we want to create a custom event on page view level, it would be hard to specify our own schema.\n",
        "\n",
        "As well as, we can create intermediate tables and then retrieve and analyze the data with other tools like Python. We do not need to write a query every time. For example, we can create an intermediate table for conversion metrics.\n",
        "\n",
        "Conversely, it is not available to see the full table ( like SELECT *FROM [table] ). Sometimes we need to check the table with eyes at first. This is just a small issue, of course, there is a preview of the data. Another essential point is that nested columns have a [depth limit](https://cloud.google.com/bigquery/docs/nested-repeated) while analyzing.\n",
        "\n",
        "Furthermore, we cannot add any calculated column to the main table. We depend on Google’s column names only. Some of the column names are also out of use.\n",
        "BigQuery can be a little bit risky for newbies because while practising there, they might not construct their queries properly. This may cost. \n",
        "On the other hand, it is good to do complex aggregation function like STDDEV_POP().\n",
        "\n",
        "To sum up, there are some challenges in querying because of the distributed data structures or cost risks. I think these costs are affordable when we think BigQuery’s performance benefit and scalability. \n",
        " "
      ]
    },
    {
      "cell_type": "markdown",
      "metadata": {
        "id": "QSkOzuKtPOHb",
        "colab_type": "text"
      },
      "source": [
        "# References"
      ]
    },
    {
      "cell_type": "markdown",
      "metadata": {
        "id": "ZXzOn3mw4N1w",
        "colab_type": "text"
      },
      "source": [
        "\n",
        "*  BigQuery documentation: https://cloud.google.com/bigquery/docs/\n",
        "https://www.lunametrics.com/blog/2016/02/11/querying-google-analytics-data-in-bigquery/\n",
        "\n",
        "*  https://support.google.com/analytics/answer/7586738\n",
        "*  https://support.google.com/analytics/answer/4419694\n",
        "* https://medium.com/firebase-developers/using-the-unnest-function-in-bigquery-to-analyze-event-parameters-in-analytics-fb828f890b42\n"
      ]
    },
    {
      "cell_type": "markdown",
      "metadata": {
        "id": "zENm0p7vJhjb",
        "colab_type": "text"
      },
      "source": [
        "# Other BigQuery Codes"
      ]
    },
    {
      "cell_type": "markdown",
      "metadata": {
        "id": "iXEje6DMJlYt",
        "colab_type": "text"
      },
      "source": [
        "**Intro**\n",
        "\n",
        "Legacy SQL\n",
        "\n",
        "```sql\n",
        "\n",
        "SELECT\n",
        "  date,\n",
        "  SUM(totals.visits) AS visits,\n",
        "  SUM(totals.pageviews) AS pageviews,\n",
        "  SUM(totals.transactions) AS transactions,\n",
        "  SUM(totals.transactionRevenue)/1000000 AS revenue\n",
        "FROM\n",
        "  [bigquery-public-data.google_analytics_sample.ga_sessions_20170801]\n",
        "GROUP BY\n",
        "  date\n",
        "ORDER BY\n",
        "  date ASC\n",
        "\n",
        "```"
      ]
    },
    {
      "cell_type": "markdown",
      "metadata": {
        "id": "z8eeITwFMiXv",
        "colab_type": "text"
      },
      "source": [
        "**Intro 2: Average Total Transactions per User**\n",
        "\n",
        "Legacy SQL\n",
        "\n",
        "``` sql\n",
        "\n",
        "SELECT\n",
        "  (SUM (total_transactions_per_user) / COUNT(fullVisitorId) ) AS avg_total_transactions_per_user\n",
        "FROM (\n",
        "  SELECT\n",
        "    fullVisitorId,\n",
        "    SUM (totals.totalTransactionRevenue) AS total_transactions_per_user\n",
        "  FROM\n",
        "   [bigquery-public-data.google_analytics_sample.ga_sessions_20170801]\n",
        "  WHERE\n",
        "    totals.transactions IS NOT NULL\n",
        "  GROUP BY\n",
        "    fullVisitorId)\n",
        "\n",
        "\n",
        "```\n",
        "\n"
      ]
    },
    {
      "cell_type": "markdown",
      "metadata": {
        "id": "1R_lVzPXNHUJ",
        "colab_type": "text"
      },
      "source": [
        "**Intro 3: Total Transactions per Device**\n",
        "\n",
        "Legacy SQL\n",
        "\n",
        "``` sql\n",
        "SELECT device.browser AS device_browser,\n",
        "            SUM(totals.transactions) as total_transactions\n",
        "FROM [bigquery-public-data:google_analytics_sample.ga_sessions_20170801]\n",
        "GROUP BY device_browser\n",
        "ORDER BY total_transactions DESC\n",
        "```\n",
        "\n"
      ]
    },
    {
      "cell_type": "markdown",
      "metadata": {
        "id": "uYFYBqy6FGY7",
        "colab_type": "text"
      },
      "source": [
        "**Page Loading Time for Countries**\n",
        "\n",
        "Legacy SQL\n",
        "\n",
        "``` sql\n",
        "SELECT\n",
        "  geoNetwork.country AS Country,\n",
        "  avg(hits.latencyTracking.pageLoadTime) as avg_pageLoadTime\t\n",
        "FROM\n",
        "  [bigquery-public-data.google_analytics_sample.ga_sessions_20170801]\n",
        "WHERE \n",
        "  hits.latencyTracking.pageLoadTime is not null\n",
        "and\n",
        "  geoNetwork.country in ('India','United States')\n",
        "GROUP BY\n",
        "  Country\n",
        "```\n",
        "\n"
      ]
    },
    {
      "cell_type": "markdown",
      "metadata": {
        "id": "n7Cf8SwRgAbT",
        "colab_type": "text"
      },
      "source": [
        "## Datasets of the Bigquery Results\n",
        "\n",
        "You can find the datasets from [this drive link](https://drive.google.com/drive/folders/1xBouVMbw1kdpu8eKhnuTQcCqH3C17rVI?usp=sharing)\n"
      ]
    }
  ]
}